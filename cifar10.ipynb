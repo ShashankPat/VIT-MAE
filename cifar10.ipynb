{
  "nbformat": 4,
  "nbformat_minor": 0,
  "metadata": {
    "colab": {
      "provenance": [],
      "machine_shape": "hm",
      "gpuType": "A100"
    },
    "kernelspec": {
      "name": "python3",
      "display_name": "Python 3"
    },
    "language_info": {
      "name": "python"
    },
    "accelerator": "GPU",
    "widgets": {
      "application/vnd.jupyter.widget-state+json": {
        "1faeb1d61815466eb6beddc77f6d1a98": {
          "model_module": "@jupyter-widgets/controls",
          "model_name": "HBoxModel",
          "model_module_version": "1.5.0",
          "state": {
            "_dom_classes": [],
            "_model_module": "@jupyter-widgets/controls",
            "_model_module_version": "1.5.0",
            "_model_name": "HBoxModel",
            "_view_count": null,
            "_view_module": "@jupyter-widgets/controls",
            "_view_module_version": "1.5.0",
            "_view_name": "HBoxView",
            "box_style": "",
            "children": [
              "IPY_MODEL_2c5b176ccc2b46df8e97514f23076d02",
              "IPY_MODEL_505373e74ad547b68b726260a300dc51",
              "IPY_MODEL_75be0d026ccc4fa987f3f3e532ce088d"
            ],
            "layout": "IPY_MODEL_9bf6a20d2d974c0dba47ffd8188003c0"
          }
        },
        "2c5b176ccc2b46df8e97514f23076d02": {
          "model_module": "@jupyter-widgets/controls",
          "model_name": "HTMLModel",
          "model_module_version": "1.5.0",
          "state": {
            "_dom_classes": [],
            "_model_module": "@jupyter-widgets/controls",
            "_model_module_version": "1.5.0",
            "_model_name": "HTMLModel",
            "_view_count": null,
            "_view_module": "@jupyter-widgets/controls",
            "_view_module_version": "1.5.0",
            "_view_name": "HTMLView",
            "description": "",
            "description_tooltip": null,
            "layout": "IPY_MODEL_29c526903bb144699854ff219be3b1b2",
            "placeholder": "​",
            "style": "IPY_MODEL_692ab1b139ac4ec194832f3c0e95809f",
            "value": "config.json: 100%"
          }
        },
        "505373e74ad547b68b726260a300dc51": {
          "model_module": "@jupyter-widgets/controls",
          "model_name": "FloatProgressModel",
          "model_module_version": "1.5.0",
          "state": {
            "_dom_classes": [],
            "_model_module": "@jupyter-widgets/controls",
            "_model_module_version": "1.5.0",
            "_model_name": "FloatProgressModel",
            "_view_count": null,
            "_view_module": "@jupyter-widgets/controls",
            "_view_module_version": "1.5.0",
            "_view_name": "ProgressView",
            "bar_style": "success",
            "description": "",
            "description_tooltip": null,
            "layout": "IPY_MODEL_e110afa5bb754b3f94ceca1671b30804",
            "max": 502,
            "min": 0,
            "orientation": "horizontal",
            "style": "IPY_MODEL_8643c3c362724fecacaa12c1ee0b8827",
            "value": 502
          }
        },
        "75be0d026ccc4fa987f3f3e532ce088d": {
          "model_module": "@jupyter-widgets/controls",
          "model_name": "HTMLModel",
          "model_module_version": "1.5.0",
          "state": {
            "_dom_classes": [],
            "_model_module": "@jupyter-widgets/controls",
            "_model_module_version": "1.5.0",
            "_model_name": "HTMLModel",
            "_view_count": null,
            "_view_module": "@jupyter-widgets/controls",
            "_view_module_version": "1.5.0",
            "_view_name": "HTMLView",
            "description": "",
            "description_tooltip": null,
            "layout": "IPY_MODEL_04bef7e8c8e443e6a28689597d7e80f3",
            "placeholder": "​",
            "style": "IPY_MODEL_20fd0306b0ec4e58b48d7812c140a041",
            "value": " 502/502 [00:00&lt;00:00, 36.9kB/s]"
          }
        },
        "9bf6a20d2d974c0dba47ffd8188003c0": {
          "model_module": "@jupyter-widgets/base",
          "model_name": "LayoutModel",
          "model_module_version": "1.2.0",
          "state": {
            "_model_module": "@jupyter-widgets/base",
            "_model_module_version": "1.2.0",
            "_model_name": "LayoutModel",
            "_view_count": null,
            "_view_module": "@jupyter-widgets/base",
            "_view_module_version": "1.2.0",
            "_view_name": "LayoutView",
            "align_content": null,
            "align_items": null,
            "align_self": null,
            "border": null,
            "bottom": null,
            "display": null,
            "flex": null,
            "flex_flow": null,
            "grid_area": null,
            "grid_auto_columns": null,
            "grid_auto_flow": null,
            "grid_auto_rows": null,
            "grid_column": null,
            "grid_gap": null,
            "grid_row": null,
            "grid_template_areas": null,
            "grid_template_columns": null,
            "grid_template_rows": null,
            "height": null,
            "justify_content": null,
            "justify_items": null,
            "left": null,
            "margin": null,
            "max_height": null,
            "max_width": null,
            "min_height": null,
            "min_width": null,
            "object_fit": null,
            "object_position": null,
            "order": null,
            "overflow": null,
            "overflow_x": null,
            "overflow_y": null,
            "padding": null,
            "right": null,
            "top": null,
            "visibility": null,
            "width": null
          }
        },
        "29c526903bb144699854ff219be3b1b2": {
          "model_module": "@jupyter-widgets/base",
          "model_name": "LayoutModel",
          "model_module_version": "1.2.0",
          "state": {
            "_model_module": "@jupyter-widgets/base",
            "_model_module_version": "1.2.0",
            "_model_name": "LayoutModel",
            "_view_count": null,
            "_view_module": "@jupyter-widgets/base",
            "_view_module_version": "1.2.0",
            "_view_name": "LayoutView",
            "align_content": null,
            "align_items": null,
            "align_self": null,
            "border": null,
            "bottom": null,
            "display": null,
            "flex": null,
            "flex_flow": null,
            "grid_area": null,
            "grid_auto_columns": null,
            "grid_auto_flow": null,
            "grid_auto_rows": null,
            "grid_column": null,
            "grid_gap": null,
            "grid_row": null,
            "grid_template_areas": null,
            "grid_template_columns": null,
            "grid_template_rows": null,
            "height": null,
            "justify_content": null,
            "justify_items": null,
            "left": null,
            "margin": null,
            "max_height": null,
            "max_width": null,
            "min_height": null,
            "min_width": null,
            "object_fit": null,
            "object_position": null,
            "order": null,
            "overflow": null,
            "overflow_x": null,
            "overflow_y": null,
            "padding": null,
            "right": null,
            "top": null,
            "visibility": null,
            "width": null
          }
        },
        "692ab1b139ac4ec194832f3c0e95809f": {
          "model_module": "@jupyter-widgets/controls",
          "model_name": "DescriptionStyleModel",
          "model_module_version": "1.5.0",
          "state": {
            "_model_module": "@jupyter-widgets/controls",
            "_model_module_version": "1.5.0",
            "_model_name": "DescriptionStyleModel",
            "_view_count": null,
            "_view_module": "@jupyter-widgets/base",
            "_view_module_version": "1.2.0",
            "_view_name": "StyleView",
            "description_width": ""
          }
        },
        "e110afa5bb754b3f94ceca1671b30804": {
          "model_module": "@jupyter-widgets/base",
          "model_name": "LayoutModel",
          "model_module_version": "1.2.0",
          "state": {
            "_model_module": "@jupyter-widgets/base",
            "_model_module_version": "1.2.0",
            "_model_name": "LayoutModel",
            "_view_count": null,
            "_view_module": "@jupyter-widgets/base",
            "_view_module_version": "1.2.0",
            "_view_name": "LayoutView",
            "align_content": null,
            "align_items": null,
            "align_self": null,
            "border": null,
            "bottom": null,
            "display": null,
            "flex": null,
            "flex_flow": null,
            "grid_area": null,
            "grid_auto_columns": null,
            "grid_auto_flow": null,
            "grid_auto_rows": null,
            "grid_column": null,
            "grid_gap": null,
            "grid_row": null,
            "grid_template_areas": null,
            "grid_template_columns": null,
            "grid_template_rows": null,
            "height": null,
            "justify_content": null,
            "justify_items": null,
            "left": null,
            "margin": null,
            "max_height": null,
            "max_width": null,
            "min_height": null,
            "min_width": null,
            "object_fit": null,
            "object_position": null,
            "order": null,
            "overflow": null,
            "overflow_x": null,
            "overflow_y": null,
            "padding": null,
            "right": null,
            "top": null,
            "visibility": null,
            "width": null
          }
        },
        "8643c3c362724fecacaa12c1ee0b8827": {
          "model_module": "@jupyter-widgets/controls",
          "model_name": "ProgressStyleModel",
          "model_module_version": "1.5.0",
          "state": {
            "_model_module": "@jupyter-widgets/controls",
            "_model_module_version": "1.5.0",
            "_model_name": "ProgressStyleModel",
            "_view_count": null,
            "_view_module": "@jupyter-widgets/base",
            "_view_module_version": "1.2.0",
            "_view_name": "StyleView",
            "bar_color": null,
            "description_width": ""
          }
        },
        "04bef7e8c8e443e6a28689597d7e80f3": {
          "model_module": "@jupyter-widgets/base",
          "model_name": "LayoutModel",
          "model_module_version": "1.2.0",
          "state": {
            "_model_module": "@jupyter-widgets/base",
            "_model_module_version": "1.2.0",
            "_model_name": "LayoutModel",
            "_view_count": null,
            "_view_module": "@jupyter-widgets/base",
            "_view_module_version": "1.2.0",
            "_view_name": "LayoutView",
            "align_content": null,
            "align_items": null,
            "align_self": null,
            "border": null,
            "bottom": null,
            "display": null,
            "flex": null,
            "flex_flow": null,
            "grid_area": null,
            "grid_auto_columns": null,
            "grid_auto_flow": null,
            "grid_auto_rows": null,
            "grid_column": null,
            "grid_gap": null,
            "grid_row": null,
            "grid_template_areas": null,
            "grid_template_columns": null,
            "grid_template_rows": null,
            "height": null,
            "justify_content": null,
            "justify_items": null,
            "left": null,
            "margin": null,
            "max_height": null,
            "max_width": null,
            "min_height": null,
            "min_width": null,
            "object_fit": null,
            "object_position": null,
            "order": null,
            "overflow": null,
            "overflow_x": null,
            "overflow_y": null,
            "padding": null,
            "right": null,
            "top": null,
            "visibility": null,
            "width": null
          }
        },
        "20fd0306b0ec4e58b48d7812c140a041": {
          "model_module": "@jupyter-widgets/controls",
          "model_name": "DescriptionStyleModel",
          "model_module_version": "1.5.0",
          "state": {
            "_model_module": "@jupyter-widgets/controls",
            "_model_module_version": "1.5.0",
            "_model_name": "DescriptionStyleModel",
            "_view_count": null,
            "_view_module": "@jupyter-widgets/base",
            "_view_module_version": "1.2.0",
            "_view_name": "StyleView",
            "description_width": ""
          }
        },
        "51064c671bbf4c0c83aa4877a55f870b": {
          "model_module": "@jupyter-widgets/controls",
          "model_name": "HBoxModel",
          "model_module_version": "1.5.0",
          "state": {
            "_dom_classes": [],
            "_model_module": "@jupyter-widgets/controls",
            "_model_module_version": "1.5.0",
            "_model_name": "HBoxModel",
            "_view_count": null,
            "_view_module": "@jupyter-widgets/controls",
            "_view_module_version": "1.5.0",
            "_view_name": "HBoxView",
            "box_style": "",
            "children": [
              "IPY_MODEL_7ee7ec1a399841688b859322d177d96e",
              "IPY_MODEL_6d09b29e87e94df282e17d37fad5b4df",
              "IPY_MODEL_f1a902e98342478ea27a6fb8a4245fb8"
            ],
            "layout": "IPY_MODEL_1e1e061edf6c434ab6706b46927a26bc"
          }
        },
        "7ee7ec1a399841688b859322d177d96e": {
          "model_module": "@jupyter-widgets/controls",
          "model_name": "HTMLModel",
          "model_module_version": "1.5.0",
          "state": {
            "_dom_classes": [],
            "_model_module": "@jupyter-widgets/controls",
            "_model_module_version": "1.5.0",
            "_model_name": "HTMLModel",
            "_view_count": null,
            "_view_module": "@jupyter-widgets/controls",
            "_view_module_version": "1.5.0",
            "_view_name": "HTMLView",
            "description": "",
            "description_tooltip": null,
            "layout": "IPY_MODEL_e82c5e385a09419085d2b635a8e17479",
            "placeholder": "​",
            "style": "IPY_MODEL_e7b9a7e9b96e491f8dbe188e9fd9cf55",
            "value": "model.safetensors: 100%"
          }
        },
        "6d09b29e87e94df282e17d37fad5b4df": {
          "model_module": "@jupyter-widgets/controls",
          "model_name": "FloatProgressModel",
          "model_module_version": "1.5.0",
          "state": {
            "_dom_classes": [],
            "_model_module": "@jupyter-widgets/controls",
            "_model_module_version": "1.5.0",
            "_model_name": "FloatProgressModel",
            "_view_count": null,
            "_view_module": "@jupyter-widgets/controls",
            "_view_module_version": "1.5.0",
            "_view_name": "ProgressView",
            "bar_style": "success",
            "description": "",
            "description_tooltip": null,
            "layout": "IPY_MODEL_f04f19bff0a442e9baff127aec1e6aff",
            "max": 345579424,
            "min": 0,
            "orientation": "horizontal",
            "style": "IPY_MODEL_b85e0d93311840dba67fa91f45a768c5",
            "value": 345579424
          }
        },
        "f1a902e98342478ea27a6fb8a4245fb8": {
          "model_module": "@jupyter-widgets/controls",
          "model_name": "HTMLModel",
          "model_module_version": "1.5.0",
          "state": {
            "_dom_classes": [],
            "_model_module": "@jupyter-widgets/controls",
            "_model_module_version": "1.5.0",
            "_model_name": "HTMLModel",
            "_view_count": null,
            "_view_module": "@jupyter-widgets/controls",
            "_view_module_version": "1.5.0",
            "_view_name": "HTMLView",
            "description": "",
            "description_tooltip": null,
            "layout": "IPY_MODEL_18b663f85abe47698f42e26b3c902c59",
            "placeholder": "​",
            "style": "IPY_MODEL_8fef2577f6a14431a97b410856d84064",
            "value": " 346M/346M [00:01&lt;00:00, 242MB/s]"
          }
        },
        "1e1e061edf6c434ab6706b46927a26bc": {
          "model_module": "@jupyter-widgets/base",
          "model_name": "LayoutModel",
          "model_module_version": "1.2.0",
          "state": {
            "_model_module": "@jupyter-widgets/base",
            "_model_module_version": "1.2.0",
            "_model_name": "LayoutModel",
            "_view_count": null,
            "_view_module": "@jupyter-widgets/base",
            "_view_module_version": "1.2.0",
            "_view_name": "LayoutView",
            "align_content": null,
            "align_items": null,
            "align_self": null,
            "border": null,
            "bottom": null,
            "display": null,
            "flex": null,
            "flex_flow": null,
            "grid_area": null,
            "grid_auto_columns": null,
            "grid_auto_flow": null,
            "grid_auto_rows": null,
            "grid_column": null,
            "grid_gap": null,
            "grid_row": null,
            "grid_template_areas": null,
            "grid_template_columns": null,
            "grid_template_rows": null,
            "height": null,
            "justify_content": null,
            "justify_items": null,
            "left": null,
            "margin": null,
            "max_height": null,
            "max_width": null,
            "min_height": null,
            "min_width": null,
            "object_fit": null,
            "object_position": null,
            "order": null,
            "overflow": null,
            "overflow_x": null,
            "overflow_y": null,
            "padding": null,
            "right": null,
            "top": null,
            "visibility": null,
            "width": null
          }
        },
        "e82c5e385a09419085d2b635a8e17479": {
          "model_module": "@jupyter-widgets/base",
          "model_name": "LayoutModel",
          "model_module_version": "1.2.0",
          "state": {
            "_model_module": "@jupyter-widgets/base",
            "_model_module_version": "1.2.0",
            "_model_name": "LayoutModel",
            "_view_count": null,
            "_view_module": "@jupyter-widgets/base",
            "_view_module_version": "1.2.0",
            "_view_name": "LayoutView",
            "align_content": null,
            "align_items": null,
            "align_self": null,
            "border": null,
            "bottom": null,
            "display": null,
            "flex": null,
            "flex_flow": null,
            "grid_area": null,
            "grid_auto_columns": null,
            "grid_auto_flow": null,
            "grid_auto_rows": null,
            "grid_column": null,
            "grid_gap": null,
            "grid_row": null,
            "grid_template_areas": null,
            "grid_template_columns": null,
            "grid_template_rows": null,
            "height": null,
            "justify_content": null,
            "justify_items": null,
            "left": null,
            "margin": null,
            "max_height": null,
            "max_width": null,
            "min_height": null,
            "min_width": null,
            "object_fit": null,
            "object_position": null,
            "order": null,
            "overflow": null,
            "overflow_x": null,
            "overflow_y": null,
            "padding": null,
            "right": null,
            "top": null,
            "visibility": null,
            "width": null
          }
        },
        "e7b9a7e9b96e491f8dbe188e9fd9cf55": {
          "model_module": "@jupyter-widgets/controls",
          "model_name": "DescriptionStyleModel",
          "model_module_version": "1.5.0",
          "state": {
            "_model_module": "@jupyter-widgets/controls",
            "_model_module_version": "1.5.0",
            "_model_name": "DescriptionStyleModel",
            "_view_count": null,
            "_view_module": "@jupyter-widgets/base",
            "_view_module_version": "1.2.0",
            "_view_name": "StyleView",
            "description_width": ""
          }
        },
        "f04f19bff0a442e9baff127aec1e6aff": {
          "model_module": "@jupyter-widgets/base",
          "model_name": "LayoutModel",
          "model_module_version": "1.2.0",
          "state": {
            "_model_module": "@jupyter-widgets/base",
            "_model_module_version": "1.2.0",
            "_model_name": "LayoutModel",
            "_view_count": null,
            "_view_module": "@jupyter-widgets/base",
            "_view_module_version": "1.2.0",
            "_view_name": "LayoutView",
            "align_content": null,
            "align_items": null,
            "align_self": null,
            "border": null,
            "bottom": null,
            "display": null,
            "flex": null,
            "flex_flow": null,
            "grid_area": null,
            "grid_auto_columns": null,
            "grid_auto_flow": null,
            "grid_auto_rows": null,
            "grid_column": null,
            "grid_gap": null,
            "grid_row": null,
            "grid_template_areas": null,
            "grid_template_columns": null,
            "grid_template_rows": null,
            "height": null,
            "justify_content": null,
            "justify_items": null,
            "left": null,
            "margin": null,
            "max_height": null,
            "max_width": null,
            "min_height": null,
            "min_width": null,
            "object_fit": null,
            "object_position": null,
            "order": null,
            "overflow": null,
            "overflow_x": null,
            "overflow_y": null,
            "padding": null,
            "right": null,
            "top": null,
            "visibility": null,
            "width": null
          }
        },
        "b85e0d93311840dba67fa91f45a768c5": {
          "model_module": "@jupyter-widgets/controls",
          "model_name": "ProgressStyleModel",
          "model_module_version": "1.5.0",
          "state": {
            "_model_module": "@jupyter-widgets/controls",
            "_model_module_version": "1.5.0",
            "_model_name": "ProgressStyleModel",
            "_view_count": null,
            "_view_module": "@jupyter-widgets/base",
            "_view_module_version": "1.2.0",
            "_view_name": "StyleView",
            "bar_color": null,
            "description_width": ""
          }
        },
        "18b663f85abe47698f42e26b3c902c59": {
          "model_module": "@jupyter-widgets/base",
          "model_name": "LayoutModel",
          "model_module_version": "1.2.0",
          "state": {
            "_model_module": "@jupyter-widgets/base",
            "_model_module_version": "1.2.0",
            "_model_name": "LayoutModel",
            "_view_count": null,
            "_view_module": "@jupyter-widgets/base",
            "_view_module_version": "1.2.0",
            "_view_name": "LayoutView",
            "align_content": null,
            "align_items": null,
            "align_self": null,
            "border": null,
            "bottom": null,
            "display": null,
            "flex": null,
            "flex_flow": null,
            "grid_area": null,
            "grid_auto_columns": null,
            "grid_auto_flow": null,
            "grid_auto_rows": null,
            "grid_column": null,
            "grid_gap": null,
            "grid_row": null,
            "grid_template_areas": null,
            "grid_template_columns": null,
            "grid_template_rows": null,
            "height": null,
            "justify_content": null,
            "justify_items": null,
            "left": null,
            "margin": null,
            "max_height": null,
            "max_width": null,
            "min_height": null,
            "min_width": null,
            "object_fit": null,
            "object_position": null,
            "order": null,
            "overflow": null,
            "overflow_x": null,
            "overflow_y": null,
            "padding": null,
            "right": null,
            "top": null,
            "visibility": null,
            "width": null
          }
        },
        "8fef2577f6a14431a97b410856d84064": {
          "model_module": "@jupyter-widgets/controls",
          "model_name": "DescriptionStyleModel",
          "model_module_version": "1.5.0",
          "state": {
            "_model_module": "@jupyter-widgets/controls",
            "_model_module_version": "1.5.0",
            "_model_name": "DescriptionStyleModel",
            "_view_count": null,
            "_view_module": "@jupyter-widgets/base",
            "_view_module_version": "1.2.0",
            "_view_name": "StyleView",
            "description_width": ""
          }
        }
      }
    }
  },
  "cells": [
    {
      "cell_type": "code",
      "source": [
        "from google.colab import drive\n",
        "drive.mount('/content/drive')"
      ],
      "metadata": {
        "colab": {
          "base_uri": "https://localhost:8080/"
        },
        "id": "qrWRdflE_ajK",
        "outputId": "0a170b30-479c-439d-cbdd-275b1c66e7da"
      },
      "execution_count": null,
      "outputs": [
        {
          "output_type": "stream",
          "name": "stdout",
          "text": [
            "Mounted at /content/drive\n"
          ]
        }
      ]
    },
    {
      "cell_type": "code",
      "source": [],
      "metadata": {
        "id": "hPCkLWnz_1Sb"
      },
      "execution_count": null,
      "outputs": []
    },
    {
      "cell_type": "markdown",
      "source": [
        "#The CIFAR-10 dataset\n",
        "*  The CIFAR-10 dataset consists of 60000 32x32 colour images in 10 classes, with 6000 images per class. There are 50000 training images and 10000 test images.\n",
        "\n",
        "* The dataset is divided into five training batches and one test batch, each with 10000 images. The test batch contains exactly 1000 randomly-selected images from each class.\n",
        "\n",
        "* The training batches contain the remaining images in random order, but some training batches may contain more images from one class than another. Between them, the training batches contain exactly 5000 images from each class."
      ],
      "metadata": {
        "id": "glPz1ddsBTNU"
      }
    },
    {
      "cell_type": "code",
      "source": [
        "import tensorflow as tf\n",
        "import numpy as np\n",
        "import matplotlib.pyplot as plt\n",
        "import seaborn as sns\n",
        "\n",
        "# Load CIFAR-10 dataset\n",
        "(x_train, y_train), (x_test, y_test) = tf.keras.datasets.cifar10.load_data()\n",
        "\n",
        "# Classes\n",
        "class_names = ['Airplane', 'Automobile', 'Bird', 'Cat', 'Deer', 'Dog', 'Frog', 'Horse', 'Ship', 'Truck']\n"
      ],
      "metadata": {
        "colab": {
          "base_uri": "https://localhost:8080/"
        },
        "id": "yHl0Y_Ap_1OZ",
        "outputId": "540c1096-23fe-426e-8e02-eab838d5bb0d"
      },
      "execution_count": null,
      "outputs": [
        {
          "output_type": "stream",
          "name": "stdout",
          "text": [
            "Downloading data from https://www.cs.toronto.edu/~kriz/cifar-10-python.tar.gz\n",
            "\u001b[1m170498071/170498071\u001b[0m \u001b[32m━━━━━━━━━━━━━━━━━━━━\u001b[0m\u001b[37m\u001b[0m \u001b[1m4s\u001b[0m 0us/step\n"
          ]
        }
      ]
    },
    {
      "cell_type": "code",
      "source": [
        "print(f\"Training data shape: {x_train.shape}, Labels shape: {y_train.shape}\")\n",
        "print(f\"Test data shape: {x_test.shape}, Labels shape: {y_test.shape}\")\n"
      ],
      "metadata": {
        "colab": {
          "base_uri": "https://localhost:8080/"
        },
        "id": "O1OxaZey_1J7",
        "outputId": "1ba2fa93-aa6f-449b-fdab-f5af60e2c4b8"
      },
      "execution_count": null,
      "outputs": [
        {
          "output_type": "stream",
          "name": "stdout",
          "text": [
            "Training data shape: (50000, 32, 32, 3), Labels shape: (50000, 1)\n",
            "Test data shape: (10000, 32, 32, 3), Labels shape: (10000, 1)\n"
          ]
        }
      ]
    },
    {
      "cell_type": "code",
      "source": [
        "print(f\"Image pixel range: {x_train.min()} to {x_train.max()}\")\n",
        "print(f\"Unique classes in train labels: {np.unique(y_train)}\")\n"
      ],
      "metadata": {
        "colab": {
          "base_uri": "https://localhost:8080/"
        },
        "id": "Ptf1r1zv_1GQ",
        "outputId": "55744c67-63fe-4055-fa84-e4cdb3a27013"
      },
      "execution_count": null,
      "outputs": [
        {
          "output_type": "stream",
          "name": "stdout",
          "text": [
            "Image pixel range: 0 to 255\n",
            "Unique classes in train labels: [0 1 2 3 4 5 6 7 8 9]\n"
          ]
        }
      ]
    },
    {
      "cell_type": "code",
      "source": [
        "# Display 10 random images, one from each class\n",
        "plt.figure(figsize=(12, 6))\n",
        "for i in range(10):\n",
        "    idx = np.where(y_train.flatten() == i)[0][0]  # Get the first image of each class\n",
        "    plt.subplot(2, 5, i + 1)\n",
        "    plt.imshow(x_train[idx])\n",
        "    plt.title(class_names[i])\n",
        "    plt.axis('off')\n",
        "plt.tight_layout()\n",
        "plt.show()\n"
      ],
      "metadata": {
        "colab": {
          "base_uri": "https://localhost:8080/",
          "height": 370
        },
        "id": "S9HVzkHK_1DI",
        "outputId": "cb0747d9-bc51-4461-fea4-8d91819f64fb"
      },
      "execution_count": null,
      "outputs": [
        {
          "output_type": "display_data",
          "data": {
            "text/plain": [
              "<Figure size 1200x600 with 10 Axes>"
            ],
            "image/png": "[encoded data removed]"
          },
          "metadata": {}
        }
      ]
    },
    {
      "cell_type": "markdown",
      "source": [
        "**Class Distribution**"
      ],
      "metadata": {
        "id": "WVJl2sX5AmsM"
      }
    },
    {
      "cell_type": "code",
      "source": [
        "# Count the number of samples per class in the training set\n",
        "train_class_counts = np.bincount(y_train.flatten())\n",
        "test_class_counts = np.bincount(y_test.flatten())\n",
        "\n",
        "# Plot class distribution\n",
        "plt.figure(figsize=(10, 5))\n",
        "sns.barplot(x=class_names, y=train_class_counts)\n",
        "plt.title(\"Class Distribution in Training Set\")\n",
        "plt.ylabel(\"Number of Images\")\n",
        "plt.xlabel(\"Class\")\n",
        "plt.xticks(rotation=45)\n",
        "plt.show()\n",
        "\n",
        "# Print class counts\n",
        "print(\"Training set class counts:\", train_class_counts)\n",
        "print(\"Test set class counts:\", test_class_counts)\n"
      ],
      "metadata": {
        "colab": {
          "base_uri": "https://localhost:8080/",
          "height": 523
        },
        "id": "Thuc7WVn_0_X",
        "outputId": "ba2f927a-4653-4031-a970-6a09bd16af14"
      },
      "execution_count": null,
      "outputs": [
        {
          "output_type": "display_data",
          "data": {
            "text/plain": [
              "<Figure size 1000x500 with 1 Axes>"
            ],
            "image/png": "[encoded data removed]"
          },
          "metadata": {}
        },
        {
          "output_type": "stream",
          "name": "stdout",
          "text": [
            "Training set class counts: [5000 5000 5000 5000 5000 5000 5000 5000 5000 5000]\n",
            "Test set class counts: [1000 1000 1000 1000 1000 1000 1000 1000 1000 1000]\n"
          ]
        }
      ]
    },
    {
      "cell_type": "code",
      "source": [
        "# Display image and its corresponding label\n",
        "idx = np.random.randint(0, len(x_train))  # Randomly select an index\n",
        "plt.imshow(x_train[idx])\n",
        "plt.title(f\"Label: {class_names[y_train[idx][0]]}\")\n",
        "plt.axis('off')\n",
        "plt.show()\n"
      ],
      "metadata": {
        "colab": {
          "base_uri": "https://localhost:8080/",
          "height": 428
        },
        "id": "C2R8YIVLAt5f",
        "outputId": "904ae914-d40d-47d0-c074-1e86cf4f69a2"
      },
      "execution_count": null,
      "outputs": [
        {
          "output_type": "display_data",
          "data": {
            "text/plain": [
              "<Figure size 640x480 with 1 Axes>"
            ],
            "image/png": "[encoded data removed]"
          },
          "metadata": {}
        }
      ]
    },
    {
      "cell_type": "markdown",
      "source": [
        "**Image Pixel Statistics**"
      ],
      "metadata": {
        "id": "JBhGV0cnBB6u"
      }
    },
    {
      "cell_type": "code",
      "source": [
        "# Normalize the pixel values to range [0, 1]\n",
        "x_train_normalized = x_train / 255.0\n",
        "x_test_normalized = x_test / 255.0\n",
        "\n",
        "# Calculate pixel mean and standard deviation\n",
        "mean_pixel_value = np.mean(x_train_normalized, axis=(0, 1, 2))\n",
        "std_pixel_value = np.std(x_train_normalized, axis=(0, 1, 2))\n",
        "\n",
        "print(f\"Mean pixel value: {mean_pixel_value}\")\n",
        "print(f\"Standard deviation of pixel values: {std_pixel_value}\")\n"
      ],
      "metadata": {
        "colab": {
          "base_uri": "https://localhost:8080/"
        },
        "id": "ej2b9mG6A3qL",
        "outputId": "af1dbff5-5c88-4024-bb49-53d96289b196"
      },
      "execution_count": null,
      "outputs": [
        {
          "output_type": "stream",
          "name": "stdout",
          "text": [
            "Mean pixel value: [0.49139968 0.48215841 0.44653091]\n",
            "Standard deviation of pixel values: [0.24703223 0.24348513 0.26158784]\n"
          ]
        }
      ]
    },
    {
      "cell_type": "code",
      "source": [],
      "metadata": {
        "id": "yqlhrjQcDTct"
      },
      "execution_count": null,
      "outputs": []
    },
    {
      "cell_type": "code",
      "source": [],
      "metadata": {
        "id": "LKpViLq3DTYe"
      },
      "execution_count": null,
      "outputs": []
    },
    {
      "cell_type": "code",
      "source": [],
      "metadata": {
        "id": "at3q-WrADTVg"
      },
      "execution_count": null,
      "outputs": []
    },
    {
      "cell_type": "code",
      "source": [],
      "metadata": {
        "id": "Hf9a5jChDTSU"
      },
      "execution_count": null,
      "outputs": []
    },
    {
      "cell_type": "code",
      "source": [
        "import torch\n",
        "import torch.nn as nn\n",
        "from torch.optim import Adam\n",
        "from torch.nn import CrossEntropyLoss\n",
        "from transformers import ViTModel, ViTConfig\n",
        "from torch.utils.data import DataLoader, Dataset\n",
        "import torchvision.transforms as transforms\n",
        "import torchvision.datasets as datasets\n",
        "\n",
        "# Device configuration\n",
        "device = torch.device(\"cuda\" if torch.cuda.is_available() else \"cpu\")\n",
        "\n",
        "# CIFAR-10 Dataset Class\n",
        "class CIFAR10Dataset(Dataset):\n",
        "    def __init__(self, dataset, transform=None):\n",
        "        self.dataset = dataset\n",
        "        self.transform = transform\n",
        "\n",
        "    def __len__(self):\n",
        "        return len(self.dataset)\n",
        "\n",
        "    def __getitem__(self, idx):\n",
        "        img, label = self.dataset[idx]\n",
        "        if self.transform:\n",
        "            img = self.transform(img)\n",
        "        return img, label\n",
        "\n",
        "# Transforms for CIFAR-10\n",
        "def get_transforms():\n",
        "    return transforms.Compose([\n",
        "        transforms.Resize((224, 224)),\n",
        "        transforms.ToTensor(),\n",
        "        transforms.Normalize(mean=(0.4914, 0.4822, 0.4465), std=(0.2023, 0.1994, 0.2010)),\n",
        "    ])\n",
        "\n",
        "# Load CIFAR-10 dataset\n",
        "transform = get_transforms()\n",
        "train_dataset = datasets.CIFAR10(root=\"./data\", train=True, download=True)\n",
        "test_dataset = datasets.CIFAR10(root=\"./data\", train=False, download=True)\n",
        "\n",
        "train_loader = DataLoader(CIFAR10Dataset(train_dataset, transform), batch_size=64, shuffle=True)\n",
        "val_loader = DataLoader(CIFAR10Dataset(test_dataset, transform), batch_size=64, shuffle=False)\n",
        "\n",
        "# Masked Autoencoder Class\n",
        "class MaskedAutoencoder(nn.Module):\n",
        "    def __init__(self, vit_model, mask_ratio=0.75):\n",
        "        super(MaskedAutoencoder, self).__init__()\n",
        "        self.vit = vit_model\n",
        "        self.mask_ratio = mask_ratio\n",
        "        self.decoder = nn.Linear(vit_model.config.hidden_size, vit_model.config.patch_size ** 2 * 3)\n",
        "\n",
        "    def forward(self, x, mask=True):\n",
        "        batch_size, _, height, width = x.shape\n",
        "        patch_size = self.vit.config.patch_size\n",
        "\n",
        "        # Flatten image into patches\n",
        "        patches = x.unfold(2, patch_size, patch_size).unfold(3, patch_size, patch_size)\n",
        "        patches = patches.contiguous().view(batch_size, 3, -1, patch_size * patch_size)\n",
        "        patches = patches.permute(0, 2, 1, 3).reshape(batch_size, -1, patch_size * patch_size * 3)\n",
        "\n",
        "        # Apply masking\n",
        "        if mask:\n",
        "            num_patches = patches.shape[1]\n",
        "            num_masked = int(self.mask_ratio * num_patches)\n",
        "            mask_indices = torch.randperm(num_patches)[:num_masked]\n",
        "            patches[:, mask_indices, :] = 0\n",
        "\n",
        "        # Encode using ViT\n",
        "        encoded = self.vit(pixel_values=x).last_hidden_state\n",
        "\n",
        "        # Decode masked patches\n",
        "        decoded = self.decoder(encoded[:, 1:, :])\n",
        "\n",
        "        grid_size = int((decoded.shape[1]) ** 0.5)\n",
        "        decoded = decoded.view(batch_size, grid_size, grid_size, patch_size, patch_size, 3)\n",
        "        decoded = decoded.permute(0, 5, 1, 3, 2, 4).contiguous()\n",
        "        reconstructed = decoded.view(batch_size, 3, height, width)\n",
        "\n",
        "        return reconstructed\n",
        "\n",
        "# ViT-MAE Classification Model\n",
        "class ViTMAEClassification(nn.Module):\n",
        "    def __init__(self, mae_model, num_classes):\n",
        "        super(ViTMAEClassification, self).__init__()\n",
        "        self.mae = mae_model\n",
        "        self.classifier = nn.Linear(mae_model.vit.config.hidden_size, num_classes)\n",
        "\n",
        "    def forward(self, x):\n",
        "        encoded = self.mae.vit(pixel_values=x).pooler_output\n",
        "        return self.classifier(encoded)\n",
        "\n",
        "# Initialize Models\n",
        "vit_config = ViTConfig.from_pretrained(\"google/vit-base-patch16-224-in21k\")\n",
        "vit_model = ViTModel.from_pretrained(\"google/vit-base-patch16-224-in21k\", config=vit_config)\n",
        "mae_model = MaskedAutoencoder(vit_model)\n",
        "vitmae_cls_model = ViTMAEClassification(mae_model, num_classes=10).to(device)\n",
        "\n",
        "# Optimizers and Losses\n",
        "optimizer_mae = Adam(mae_model.parameters(), lr=1e-4)\n",
        "criterion_mae = nn.MSELoss()\n",
        "optimizer_cls = Adam(vitmae_cls_model.parameters(), lr=1e-4)\n",
        "criterion_cls = CrossEntropyLoss()\n",
        "\n",
        "# Pretraining with Accuracy\n",
        "def pretrain_mae(model, loader, optimizer, criterion, device, epochs=5):\n",
        "    model.train()\n",
        "    for epoch in range(epochs):\n",
        "        total_loss = 0\n",
        "        for images, _ in loader:\n",
        "            images = images.to(device)\n",
        "            optimizer.zero_grad()\n",
        "\n",
        "            reconstructed = model(images, mask=True)\n",
        "            loss = criterion(reconstructed, images)\n",
        "            loss.backward()\n",
        "            optimizer.step()\n",
        "\n",
        "            total_loss += loss.item()\n",
        "\n",
        "        print(f\"Epoch {epoch+1}/{epochs}, Pretrain Loss: {total_loss/len(loader):.4f}\")\n",
        "\n",
        "# Training Classification\n",
        "def train_classification(model, loader, optimizer, criterion, device):\n",
        "    model.train()\n",
        "    total_loss = 0\n",
        "    total_correct = 0\n",
        "    total_samples = 0\n",
        "\n",
        "    for images, labels in loader:\n",
        "        images, labels = images.to(device), labels.to(device)\n",
        "        optimizer.zero_grad()\n",
        "\n",
        "        outputs = model(images)\n",
        "        loss = criterion(outputs, labels)\n",
        "        loss.backward()\n",
        "        optimizer.step()\n",
        "\n",
        "        total_loss += loss.item()\n",
        "        predictions = torch.argmax(outputs, dim=1)\n",
        "        total_correct += (predictions == labels).sum().item()\n",
        "        total_samples += labels.size(0)\n",
        "\n",
        "    accuracy = (total_correct / total_samples) * 100\n",
        "    return total_loss / len(loader), accuracy\n",
        "\n",
        "# Validation Classification\n",
        "def validate_classification(model, loader, criterion, device):\n",
        "    model.eval()\n",
        "    total_loss = 0\n",
        "    total_correct = 0\n",
        "    total_samples = 0\n",
        "\n",
        "    with torch.no_grad():\n",
        "        for images, labels in loader:\n",
        "            images, labels = images.to(device), labels.to(device)\n",
        "\n",
        "            outputs = model(images)\n",
        "            loss = criterion(outputs, labels)\n",
        "            total_loss += loss.item()\n",
        "\n",
        "            predictions = torch.argmax(outputs, dim=1)\n",
        "            total_correct += (predictions == labels).sum().item()\n",
        "            total_samples += labels.size(0)\n",
        "\n",
        "    accuracy = (total_correct / total_samples) * 100\n",
        "    return total_loss / len(loader), accuracy\n",
        "\n",
        "# Pretraining\n",
        "pretrain_mae(mae_model, train_loader, optimizer_mae, criterion_mae, device, epochs=5)\n",
        "\n",
        "# Fine-tuning\n",
        "num_epochs = 5\n",
        "for epoch in range(num_epochs):\n",
        "    train_loss, train_accuracy = train_classification(vitmae_cls_model, train_loader, optimizer_cls, criterion_cls, device)\n",
        "    val_loss, val_accuracy = validate_classification(vitmae_cls_model, val_loader, criterion_cls, device)\n",
        "    print(f\"Epoch {epoch+1}/{num_epochs}, Train Loss: {train_loss:.4f}, Train Acc: {train_accuracy:.2f}%, Val Loss: {val_loss:.4f}, Val Acc: {val_accuracy:.2f}%\")\n",
        "\n",
        "# Save the final model\n",
        "torch.save(vitmae_cls_model.state_dict(), \"vit_mae_cifar10_model.pth\")\n",
        "print(\"Model saved successfully!\")\n"
      ],
      "metadata": {
        "colab": {
          "base_uri": "https://localhost:8080/",
          "height": 439
        },
        "id": "GnU2_49JDTOb",
        "outputId": "0c4246b4-01fe-42ea-a208-e7e6fc28aa96"
      },
      "execution_count": null,
      "outputs": [
        {
          "output_type": "stream",
          "name": "stdout",
          "text": [
            "Files already downloaded and verified\n",
            "Files already downloaded and verified\n",
            "Epoch 1/15, Pretrain Loss: 0.1400\n",
            "Epoch 2/15, Pretrain Loss: 0.0088\n",
            "Epoch 3/15, Pretrain Loss: 0.0044\n"
          ]
        },
        {
          "output_type": "error",
          "ename": "KeyboardInterrupt",
          "evalue": "",
          "traceback": [
            "\u001b[0;31m---------------------------------------------------------------------------\u001b[0m",
            "\u001b[0;31mKeyboardInterrupt\u001b[0m                         Traceback (most recent call last)",
            "\u001b[0;32m<ipython-input-2-1ad1427d3555>\u001b[0m in \u001b[0;36m<cell line: 169>\u001b[0;34m()\u001b[0m\n\u001b[1;32m    167\u001b[0m \u001b[0;34m\u001b[0m\u001b[0m\n\u001b[1;32m    168\u001b[0m \u001b[0;31m# Pretraining\u001b[0m\u001b[0;34m\u001b[0m\u001b[0;34m\u001b[0m\u001b[0m\n\u001b[0;32m--> 169\u001b[0;31m \u001b[0mpretrain_mae\u001b[0m\u001b[0;34m(\u001b[0m\u001b[0mmae_model\u001b[0m\u001b[0;34m,\u001b[0m \u001b[0mtrain_loader\u001b[0m\u001b[0;34m,\u001b[0m \u001b[0moptimizer_mae\u001b[0m\u001b[0;34m,\u001b[0m \u001b[0mcriterion_mae\u001b[0m\u001b[0;34m,\u001b[0m \u001b[0mdevice\u001b[0m\u001b[0;34m,\u001b[0m \u001b[0mepochs\u001b[0m\u001b[0;34m=\u001b[0m\u001b[0;36m15\u001b[0m\u001b[0;34m)\u001b[0m\u001b[0;34m\u001b[0m\u001b[0;34m\u001b[0m\u001b[0m\n\u001b[0m\u001b[1;32m    170\u001b[0m \u001b[0;34m\u001b[0m\u001b[0m\n\u001b[1;32m    171\u001b[0m \u001b[0;31m# Fine-tuning\u001b[0m\u001b[0;34m\u001b[0m\u001b[0;34m\u001b[0m\u001b[0m\n",
            "\u001b[0;32m<ipython-input-2-1ad1427d3555>\u001b[0m in \u001b[0;36mpretrain_mae\u001b[0;34m(model, loader, optimizer, criterion, device, epochs)\u001b[0m\n\u001b[1;32m    116\u001b[0m             \u001b[0moptimizer\u001b[0m\u001b[0;34m.\u001b[0m\u001b[0mstep\u001b[0m\u001b[0;34m(\u001b[0m\u001b[0;34m)\u001b[0m\u001b[0;34m\u001b[0m\u001b[0;34m\u001b[0m\u001b[0m\n\u001b[1;32m    117\u001b[0m \u001b[0;34m\u001b[0m\u001b[0m\n\u001b[0;32m--> 118\u001b[0;31m             \u001b[0mtotal_loss\u001b[0m \u001b[0;34m+=\u001b[0m \u001b[0mloss\u001b[0m\u001b[0;34m.\u001b[0m\u001b[0mitem\u001b[0m\u001b[0;34m(\u001b[0m\u001b[0;34m)\u001b[0m\u001b[0;34m\u001b[0m\u001b[0;34m\u001b[0m\u001b[0m\n\u001b[0m\u001b[1;32m    119\u001b[0m \u001b[0;34m\u001b[0m\u001b[0m\n\u001b[1;32m    120\u001b[0m         \u001b[0mprint\u001b[0m\u001b[0;34m(\u001b[0m\u001b[0;34mf\"Epoch {epoch+1}/{epochs}, Pretrain Loss: {total_loss/len(loader):.4f}\"\u001b[0m\u001b[0;34m)\u001b[0m\u001b[0;34m\u001b[0m\u001b[0;34m\u001b[0m\u001b[0m\n",
            "\u001b[0;31mKeyboardInterrupt\u001b[0m: "
          ]
        }
      ]
    },
    {
      "cell_type": "code",
      "source": [
        "import torch\n",
        "import torch.nn as nn\n",
        "from torch.optim import Adam\n",
        "from torch.nn import CrossEntropyLoss\n",
        "from transformers import ViTModel, ViTConfig\n",
        "from torch.utils.data import DataLoader, Dataset\n",
        "import torchvision.transforms as transforms\n",
        "import torchvision.datasets as datasets\n",
        "\n",
        "# Device configuration\n",
        "device = torch.device(\"cuda\" if torch.cuda.is_available() else \"cpu\")\n",
        "\n",
        "# CIFAR-10 Dataset Class\n",
        "class CIFAR10Dataset(Dataset):\n",
        "    def __init__(self, dataset, transform=None):\n",
        "        self.dataset = dataset\n",
        "        self.transform = transform\n",
        "\n",
        "    def __len__(self):\n",
        "        return len(self.dataset)\n",
        "\n",
        "    def __getitem__(self, idx):\n",
        "        img, label = self.dataset[idx]\n",
        "        if self.transform:\n",
        "            img = self.transform(img)\n",
        "        return img, label\n",
        "\n",
        "# Transforms for CIFAR-10\n",
        "def get_transforms():\n",
        "    return transforms.Compose([\n",
        "        transforms.Resize((224, 224)),\n",
        "        transforms.ToTensor(),\n",
        "        transforms.Normalize(mean=(0.4914, 0.4822, 0.4465), std=(0.2023, 0.1994, 0.2010)),\n",
        "    ])\n",
        "\n",
        "# Load CIFAR-10 dataset\n",
        "transform = get_transforms()\n",
        "train_dataset = datasets.CIFAR10(root=\"./data\", train=True, download=True)\n",
        "test_dataset = datasets.CIFAR10(root=\"./data\", train=False, download=True)\n",
        "\n",
        "train_loader = DataLoader(CIFAR10Dataset(train_dataset, transform), batch_size=64, shuffle=True)\n",
        "val_loader = DataLoader(CIFAR10Dataset(test_dataset, transform), batch_size=64, shuffle=False)\n",
        "\n",
        "# Masked Autoencoder Class\n",
        "class MaskedAutoencoder(nn.Module):\n",
        "    def __init__(self, vit_model, mask_ratio=0.75):\n",
        "        super(MaskedAutoencoder, self).__init__()\n",
        "        self.vit = vit_model\n",
        "        self.mask_ratio = mask_ratio\n",
        "        self.decoder = nn.Linear(vit_model.config.hidden_size, vit_model.config.patch_size ** 2 * 3)\n",
        "\n",
        "    def forward(self, x, mask=True):\n",
        "        batch_size, _, height, width = x.shape\n",
        "        patch_size = self.vit.config.patch_size\n",
        "\n",
        "        # Flatten image into patches\n",
        "        patches = x.unfold(2, patch_size, patch_size).unfold(3, patch_size, patch_size)\n",
        "        patches = patches.contiguous().view(batch_size, 3, -1, patch_size * patch_size)\n",
        "        patches = patches.permute(0, 2, 1, 3).reshape(batch_size, -1, patch_size * patch_size * 3)\n",
        "\n",
        "        # Apply masking\n",
        "        if mask:\n",
        "            num_patches = patches.shape[1]\n",
        "            num_masked = int(self.mask_ratio * num_patches)\n",
        "            mask_indices = torch.randperm(num_patches)[:num_masked]\n",
        "            patches[:, mask_indices, :] = 0\n",
        "\n",
        "        # Encode using ViT\n",
        "        encoded = self.vit(pixel_values=x).last_hidden_state\n",
        "\n",
        "        # Decode masked patches\n",
        "        decoded = self.decoder(encoded[:, 1:, :])\n",
        "\n",
        "        grid_size = int((decoded.shape[1]) ** 0.5)\n",
        "        decoded = decoded.view(batch_size, grid_size, grid_size, patch_size, patch_size, 3)\n",
        "        decoded = decoded.permute(0, 5, 1, 3, 2, 4).contiguous()\n",
        "        reconstructed = decoded.view(batch_size, 3, height, width)\n",
        "\n",
        "        return reconstructed\n",
        "\n",
        "# ViT-MAE Classification Model\n",
        "class ViTMAEClassification(nn.Module):\n",
        "    def __init__(self, mae_model, num_classes):\n",
        "        super(ViTMAEClassification, self).__init__()\n",
        "        self.mae = mae_model\n",
        "        self.classifier = nn.Linear(mae_model.vit.config.hidden_size, num_classes)\n",
        "\n",
        "    def forward(self, x):\n",
        "        encoded = self.mae.vit(pixel_values=x).pooler_output\n",
        "        return self.classifier(encoded)\n",
        "\n",
        "# Initialize Models\n",
        "vit_config = ViTConfig.from_pretrained(\"google/vit-base-patch16-224-in21k\")\n",
        "vit_model = ViTModel.from_pretrained(\"google/vit-base-patch16-224-in21k\", config=vit_config)\n",
        "mae_model = MaskedAutoencoder(vit_model)\n",
        "vitmae_cls_model = ViTMAEClassification(mae_model, num_classes=10).to(device)\n",
        "\n",
        "# Optimizers and Losses\n",
        "optimizer_mae = Adam(mae_model.parameters(), lr=1e-4)\n",
        "criterion_mae = nn.MSELoss()\n",
        "optimizer_cls = Adam(vitmae_cls_model.parameters(), lr=1e-4)\n",
        "criterion_cls = CrossEntropyLoss()\n",
        "\n",
        "# Pretraining with Accuracy\n",
        "def pretrain_mae(model, loader, optimizer, criterion, device, epochs=5):\n",
        "    model.train()\n",
        "    for epoch in range(epochs):\n",
        "        total_loss = 0\n",
        "        for images, _ in loader:\n",
        "            images = images.to(device)\n",
        "            optimizer.zero_grad()\n",
        "\n",
        "            reconstructed = model(images, mask=True)\n",
        "            loss = criterion(reconstructed, images)\n",
        "            loss.backward()\n",
        "            optimizer.step()\n",
        "\n",
        "            total_loss += loss.item()\n",
        "\n",
        "        print(f\"Epoch {epoch+1}/{epochs}, Pretrain Loss: {total_loss/len(loader):.4f}\")\n",
        "\n",
        "# Training Classification\n",
        "def train_classification(model, loader, optimizer, criterion, device):\n",
        "    model.train()\n",
        "    total_loss = 0\n",
        "    total_correct = 0\n",
        "    total_samples = 0\n",
        "\n",
        "    for images, labels in loader:\n",
        "        images, labels = images.to(device), labels.to(device)\n",
        "        optimizer.zero_grad()\n",
        "\n",
        "        outputs = model(images)\n",
        "        loss = criterion(outputs, labels)\n",
        "        loss.backward()\n",
        "        optimizer.step()\n",
        "\n",
        "        total_loss += loss.item()\n",
        "        predictions = torch.argmax(outputs, dim=1)\n",
        "        total_correct += (predictions == labels).sum().item()\n",
        "        total_samples += labels.size(0)\n",
        "\n",
        "    accuracy = (total_correct / total_samples) * 100\n",
        "    return total_loss / len(loader), accuracy\n",
        "\n",
        "# Validation Classification\n",
        "def validate_classification(model, loader, criterion, device):\n",
        "    model.eval()\n",
        "    total_loss = 0\n",
        "    total_correct = 0\n",
        "    total_samples = 0\n",
        "\n",
        "    with torch.no_grad():\n",
        "        for images, labels in loader:\n",
        "            images, labels = images.to(device), labels.to(device)\n",
        "\n",
        "            outputs = model(images)\n",
        "            loss = criterion(outputs, labels)\n",
        "            total_loss += loss.item()\n",
        "\n",
        "            predictions = torch.argmax(outputs, dim=1)\n",
        "            total_correct += (predictions == labels).sum().item()\n",
        "            total_samples += labels.size(0)\n",
        "\n",
        "    accuracy = (total_correct / total_samples) * 100\n",
        "    return total_loss / len(loader), accuracy\n",
        "\n",
        "# Pretraining\n",
        "pretrain_mae(mae_model, train_loader, optimizer_mae, criterion_mae, device, epochs=5)\n",
        "\n",
        "# Fine-tuning\n",
        "num_epochs = 5\n",
        "for epoch in range(num_epochs):\n",
        "    train_loss, train_accuracy = train_classification(vitmae_cls_model, train_loader, optimizer_cls, criterion_cls, device)\n",
        "    val_loss, val_accuracy = validate_classification(vitmae_cls_model, val_loader, criterion_cls, device)\n",
        "    print(f\"Epoch {epoch+1}/{num_epochs}, Train Loss: {train_loss:.4f}, Train Acc: {train_accuracy:.2f}%, Val Loss: {val_loss:.4f}, Val Acc: {val_accuracy:.2f}%\")\n",
        "\n",
        "# Save the final model\n",
        "torch.save(vitmae_cls_model.state_dict(), \"vit_mae_cifar10_model.pth\")\n",
        "print(\"Model saved successfully!\")\n"
      ],
      "metadata": {
        "colab": {
          "base_uri": "https://localhost:8080/",
          "height": 485,
          "referenced_widgets": [
            "1faeb1d61815466eb6beddc77f6d1a98",
            "2c5b176ccc2b46df8e97514f23076d02",
            "505373e74ad547b68b726260a300dc51",
            "75be0d026ccc4fa987f3f3e532ce088d",
            "9bf6a20d2d974c0dba47ffd8188003c0",
            "29c526903bb144699854ff219be3b1b2",
            "692ab1b139ac4ec194832f3c0e95809f",
            "e110afa5bb754b3f94ceca1671b30804",
            "8643c3c362724fecacaa12c1ee0b8827",
            "04bef7e8c8e443e6a28689597d7e80f3",
            "20fd0306b0ec4e58b48d7812c140a041",
            "51064c671bbf4c0c83aa4877a55f870b",
            "7ee7ec1a399841688b859322d177d96e",
            "6d09b29e87e94df282e17d37fad5b4df",
            "f1a902e98342478ea27a6fb8a4245fb8",
            "1e1e061edf6c434ab6706b46927a26bc",
            "e82c5e385a09419085d2b635a8e17479",
            "e7b9a7e9b96e491f8dbe188e9fd9cf55",
            "f04f19bff0a442e9baff127aec1e6aff",
            "b85e0d93311840dba67fa91f45a768c5",
            "18b663f85abe47698f42e26b3c902c59",
            "8fef2577f6a14431a97b410856d84064"
          ]
        },
        "id": "TYadWvsoYFLW",
        "outputId": "62592596-0a70-4ed3-e3ac-8802d5554804"
      },
      "execution_count": null,
      "outputs": [
        {
          "output_type": "stream",
          "name": "stdout",
          "text": [
            "Downloading https://www.cs.toronto.edu/~kriz/cifar-10-python.tar.gz to ./data/cifar-10-python.tar.gz\n"
          ]
        },
        {
          "output_type": "stream",
          "name": "stderr",
          "text": [
            "100%|██████████| 170M/170M [00:01<00:00, 99.8MB/s]\n"
          ]
        },
        {
          "output_type": "stream",
          "name": "stdout",
          "text": [
            "Extracting ./data/cifar-10-python.tar.gz to ./data\n",
            "Files already downloaded and verified\n"
          ]
        },
        {
          "output_type": "stream",
          "name": "stderr",
          "text": [
            "/usr/local/lib/python3.10/dist-packages/huggingface_hub/utils/_auth.py:94: UserWarning: \n",
            "The secret `HF_TOKEN` does not exist in your Colab secrets.\n",
            "To authenticate with the Hugging Face Hub, create a token in your settings tab (https://huggingface.co/settings/tokens), set it as secret in your Google Colab and restart your session.\n",
            "You will be able to reuse this secret in all of your notebooks.\n",
            "Please note that authentication is recommended but still optional to access public models or datasets.\n",
            "  warnings.warn(\n"
          ]
        },
        {
          "output_type": "display_data",
          "data": {
            "text/plain": [
              "config.json:   0%|          | 0.00/502 [00:00<?, ?B/s]"
            ],
            "application/vnd.jupyter.widget-view+json": {
              "version_major": 2,
              "version_minor": 0,
              "model_id": "1faeb1d61815466eb6beddc77f6d1a98"
            }
          },
          "metadata": {}
        },
        {
          "output_type": "display_data",
          "data": {
            "text/plain": [
              "model.safetensors:   0%|          | 0.00/346M [00:00<?, ?B/s]"
            ],
            "application/vnd.jupyter.widget-view+json": {
              "version_major": 2,
              "version_minor": 0,
              "model_id": "51064c671bbf4c0c83aa4877a55f870b"
            }
          },
          "metadata": {}
        },
        {
          "output_type": "stream",
          "name": "stdout",
          "text": [
            "Epoch 1/5, Pretrain Loss: 0.1401\n",
            "Epoch 2/5, Pretrain Loss: 0.0106\n",
            "Epoch 3/5, Pretrain Loss: 0.0059\n",
            "Epoch 4/5, Pretrain Loss: 0.0032\n",
            "Epoch 5/5, Pretrain Loss: 0.0024\n",
            "Epoch 1/5, Train Loss: 0.6728, Train Acc: 76.03%, Val Loss: 0.1116, Val Acc: 96.35%\n",
            "Epoch 2/5, Train Loss: 0.0657, Train Acc: 97.97%, Val Loss: 0.0904, Val Acc: 97.15%\n",
            "Epoch 3/5, Train Loss: 0.0354, Train Acc: 98.87%, Val Loss: 0.0943, Val Acc: 97.18%\n",
            "Epoch 4/5, Train Loss: 0.0304, Train Acc: 98.99%, Val Loss: 0.0971, Val Acc: 97.09%\n",
            "Epoch 5/5, Train Loss: 0.0269, Train Acc: 99.15%, Val Loss: 0.0860, Val Acc: 97.65%\n",
            "Model saved successfully!\n"
          ]
        }
      ]
    }
  ]
}