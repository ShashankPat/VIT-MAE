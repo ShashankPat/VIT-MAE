{
  "nbformat": 4,
  "nbformat_minor": 0,
  "metadata": {
    "colab": {
      "provenance": [],
      "machine_shape": "hm",
      "gpuType": "A100"
    },
    "kernelspec": {
      "name": "python3",
      "display_name": "Python 3"
    },
    "language_info": {
      "name": "python"
    },
    "accelerator": "GPU",
    "widgets": {
      "application/vnd.jupyter.widget-state+json": {
        "64e66ac765234f2fb8859ec51cc2eaad": {
          "model_module": "@jupyter-widgets/controls",
          "model_name": "HBoxModel",
          "model_module_version": "1.5.0",
          "state": {
            "_dom_classes": [],
            "_model_module": "@jupyter-widgets/controls",
            "_model_module_version": "1.5.0",
            "_model_name": "HBoxModel",
            "_view_count": null,
            "_view_module": "@jupyter-widgets/controls",
            "_view_module_version": "1.5.0",
            "_view_name": "HBoxView",
            "box_style": "",
            "children": [
              "IPY_MODEL_4037a2c0ed9d4f7096d18254830bbd7d",
              "IPY_MODEL_9d66511eb2ce4c6f99c09807e6ce8484",
              "IPY_MODEL_4ff31565288f4ab79f916c8336812654"
            ],
            "layout": "IPY_MODEL_d9d7dde649c643758b07b5838961872a"
          }
        },
        "4037a2c0ed9d4f7096d18254830bbd7d": {
          "model_module": "@jupyter-widgets/controls",
          "model_name": "HTMLModel",
          "model_module_version": "1.5.0",
          "state": {
            "_dom_classes": [],
            "_model_module": "@jupyter-widgets/controls",
            "_model_module_version": "1.5.0",
            "_model_name": "HTMLModel",
            "_view_count": null,
            "_view_module": "@jupyter-widgets/controls",
            "_view_module_version": "1.5.0",
            "_view_name": "HTMLView",
            "description": "",
            "description_tooltip": null,
            "layout": "IPY_MODEL_91c270c6355d4817b7c150c2c8b39ae8",
            "placeholder": "​",
            "style": "IPY_MODEL_57ffb29b6d384e09a4c37ca5147ad340",
            "value": "config.json: 100%"
          }
        },
        "9d66511eb2ce4c6f99c09807e6ce8484": {
          "model_module": "@jupyter-widgets/controls",
          "model_name": "FloatProgressModel",
          "model_module_version": "1.5.0",
          "state": {
            "_dom_classes": [],
            "_model_module": "@jupyter-widgets/controls",
            "_model_module_version": "1.5.0",
            "_model_name": "FloatProgressModel",
            "_view_count": null,
            "_view_module": "@jupyter-widgets/controls",
            "_view_module_version": "1.5.0",
            "_view_name": "ProgressView",
            "bar_style": "success",
            "description": "",
            "description_tooltip": null,
            "layout": "IPY_MODEL_cf2bc2a819c54c248cdb473da75e9622",
            "max": 502,
            "min": 0,
            "orientation": "horizontal",
            "style": "IPY_MODEL_84a985f658904baa92728c619c71773d",
            "value": 502
          }
        },
        "4ff31565288f4ab79f916c8336812654": {
          "model_module": "@jupyter-widgets/controls",
          "model_name": "HTMLModel",
          "model_module_version": "1.5.0",
          "state": {
            "_dom_classes": [],
            "_model_module": "@jupyter-widgets/controls",
            "_model_module_version": "1.5.0",
            "_model_name": "HTMLModel",
            "_view_count": null,
            "_view_module": "@jupyter-widgets/controls",
            "_view_module_version": "1.5.0",
            "_view_name": "HTMLView",
            "description": "",
            "description_tooltip": null,
            "layout": "IPY_MODEL_741cd6007d94481aaf942b5e50693e52",
            "placeholder": "​",
            "style": "IPY_MODEL_48c99d6d6d1640b2ad93490d104181dd",
            "value": " 502/502 [00:00&lt;00:00, 46.0kB/s]"
          }
        },
        "d9d7dde649c643758b07b5838961872a": {
          "model_module": "@jupyter-widgets/base",
          "model_name": "LayoutModel",
          "model_module_version": "1.2.0",
          "state": {
            "_model_module": "@jupyter-widgets/base",
            "_model_module_version": "1.2.0",
            "_model_name": "LayoutModel",
            "_view_count": null,
            "_view_module": "@jupyter-widgets/base",
            "_view_module_version": "1.2.0",
            "_view_name": "LayoutView",
            "align_content": null,
            "align_items": null,
            "align_self": null,
            "border": null,
            "bottom": null,
            "display": null,
            "flex": null,
            "flex_flow": null,
            "grid_area": null,
            "grid_auto_columns": null,
            "grid_auto_flow": null,
            "grid_auto_rows": null,
            "grid_column": null,
            "grid_gap": null,
            "grid_row": null,
            "grid_template_areas": null,
            "grid_template_columns": null,
            "grid_template_rows": null,
            "height": null,
            "justify_content": null,
            "justify_items": null,
            "left": null,
            "margin": null,
            "max_height": null,
            "max_width": null,
            "min_height": null,
            "min_width": null,
            "object_fit": null,
            "object_position": null,
            "order": null,
            "overflow": null,
            "overflow_x": null,
            "overflow_y": null,
            "padding": null,
            "right": null,
            "top": null,
            "visibility": null,
            "width": null
          }
        },
        "91c270c6355d4817b7c150c2c8b39ae8": {
          "model_module": "@jupyter-widgets/base",
          "model_name": "LayoutModel",
          "model_module_version": "1.2.0",
          "state": {
            "_model_module": "@jupyter-widgets/base",
            "_model_module_version": "1.2.0",
            "_model_name": "LayoutModel",
            "_view_count": null,
            "_view_module": "@jupyter-widgets/base",
            "_view_module_version": "1.2.0",
            "_view_name": "LayoutView",
            "align_content": null,
            "align_items": null,
            "align_self": null,
            "border": null,
            "bottom": null,
            "display": null,
            "flex": null,
            "flex_flow": null,
            "grid_area": null,
            "grid_auto_columns": null,
            "grid_auto_flow": null,
            "grid_auto_rows": null,
            "grid_column": null,
            "grid_gap": null,
            "grid_row": null,
            "grid_template_areas": null,
            "grid_template_columns": null,
            "grid_template_rows": null,
            "height": null,
            "justify_content": null,
            "justify_items": null,
            "left": null,
            "margin": null,
            "max_height": null,
            "max_width": null,
            "min_height": null,
            "min_width": null,
            "object_fit": null,
            "object_position": null,
            "order": null,
            "overflow": null,
            "overflow_x": null,
            "overflow_y": null,
            "padding": null,
            "right": null,
            "top": null,
            "visibility": null,
            "width": null
          }
        },
        "57ffb29b6d384e09a4c37ca5147ad340": {
          "model_module": "@jupyter-widgets/controls",
          "model_name": "DescriptionStyleModel",
          "model_module_version": "1.5.0",
          "state": {
            "_model_module": "@jupyter-widgets/controls",
            "_model_module_version": "1.5.0",
            "_model_name": "DescriptionStyleModel",
            "_view_count": null,
            "_view_module": "@jupyter-widgets/base",
            "_view_module_version": "1.2.0",
            "_view_name": "StyleView",
            "description_width": ""
          }
        },
        "cf2bc2a819c54c248cdb473da75e9622": {
          "model_module": "@jupyter-widgets/base",
          "model_name": "LayoutModel",
          "model_module_version": "1.2.0",
          "state": {
            "_model_module": "@jupyter-widgets/base",
            "_model_module_version": "1.2.0",
            "_model_name": "LayoutModel",
            "_view_count": null,
            "_view_module": "@jupyter-widgets/base",
            "_view_module_version": "1.2.0",
            "_view_name": "LayoutView",
            "align_content": null,
            "align_items": null,
            "align_self": null,
            "border": null,
            "bottom": null,
            "display": null,
            "flex": null,
            "flex_flow": null,
            "grid_area": null,
            "grid_auto_columns": null,
            "grid_auto_flow": null,
            "grid_auto_rows": null,
            "grid_column": null,
            "grid_gap": null,
            "grid_row": null,
            "grid_template_areas": null,
            "grid_template_columns": null,
            "grid_template_rows": null,
            "height": null,
            "justify_content": null,
            "justify_items": null,
            "left": null,
            "margin": null,
            "max_height": null,
            "max_width": null,
            "min_height": null,
            "min_width": null,
            "object_fit": null,
            "object_position": null,
            "order": null,
            "overflow": null,
            "overflow_x": null,
            "overflow_y": null,
            "padding": null,
            "right": null,
            "top": null,
            "visibility": null,
            "width": null
          }
        },
        "84a985f658904baa92728c619c71773d": {
          "model_module": "@jupyter-widgets/controls",
          "model_name": "ProgressStyleModel",
          "model_module_version": "1.5.0",
          "state": {
            "_model_module": "@jupyter-widgets/controls",
            "_model_module_version": "1.5.0",
            "_model_name": "ProgressStyleModel",
            "_view_count": null,
            "_view_module": "@jupyter-widgets/base",
            "_view_module_version": "1.2.0",
            "_view_name": "StyleView",
            "bar_color": null,
            "description_width": ""
          }
        },
        "741cd6007d94481aaf942b5e50693e52": {
          "model_module": "@jupyter-widgets/base",
          "model_name": "LayoutModel",
          "model_module_version": "1.2.0",
          "state": {
            "_model_module": "@jupyter-widgets/base",
            "_model_module_version": "1.2.0",
            "_model_name": "LayoutModel",
            "_view_count": null,
            "_view_module": "@jupyter-widgets/base",
            "_view_module_version": "1.2.0",
            "_view_name": "LayoutView",
            "align_content": null,
            "align_items": null,
            "align_self": null,
            "border": null,
            "bottom": null,
            "display": null,
            "flex": null,
            "flex_flow": null,
            "grid_area": null,
            "grid_auto_columns": null,
            "grid_auto_flow": null,
            "grid_auto_rows": null,
            "grid_column": null,
            "grid_gap": null,
            "grid_row": null,
            "grid_template_areas": null,
            "grid_template_columns": null,
            "grid_template_rows": null,
            "height": null,
            "justify_content": null,
            "justify_items": null,
            "left": null,
            "margin": null,
            "max_height": null,
            "max_width": null,
            "min_height": null,
            "min_width": null,
            "object_fit": null,
            "object_position": null,
            "order": null,
            "overflow": null,
            "overflow_x": null,
            "overflow_y": null,
            "padding": null,
            "right": null,
            "top": null,
            "visibility": null,
            "width": null
          }
        },
        "48c99d6d6d1640b2ad93490d104181dd": {
          "model_module": "@jupyter-widgets/controls",
          "model_name": "DescriptionStyleModel",
          "model_module_version": "1.5.0",
          "state": {
            "_model_module": "@jupyter-widgets/controls",
            "_model_module_version": "1.5.0",
            "_model_name": "DescriptionStyleModel",
            "_view_count": null,
            "_view_module": "@jupyter-widgets/base",
            "_view_module_version": "1.2.0",
            "_view_name": "StyleView",
            "description_width": ""
          }
        },
        "a1048199c2a147e4b3727dd192573e72": {
          "model_module": "@jupyter-widgets/controls",
          "model_name": "HBoxModel",
          "model_module_version": "1.5.0",
          "state": {
            "_dom_classes": [],
            "_model_module": "@jupyter-widgets/controls",
            "_model_module_version": "1.5.0",
            "_model_name": "HBoxModel",
            "_view_count": null,
            "_view_module": "@jupyter-widgets/controls",
            "_view_module_version": "1.5.0",
            "_view_name": "HBoxView",
            "box_style": "",
            "children": [
              "IPY_MODEL_27e8fbaabe5c4d62b106fffa2e6cff81",
              "IPY_MODEL_50cbe151c71946a8be500c79e8b4c60b",
              "IPY_MODEL_5719ae8c651c451eb8b1f6054bb92a5f"
            ],
            "layout": "IPY_MODEL_1b68348cd4ee421ca3d01b73a51c2872"
          }
        },
        "27e8fbaabe5c4d62b106fffa2e6cff81": {
          "model_module": "@jupyter-widgets/controls",
          "model_name": "HTMLModel",
          "model_module_version": "1.5.0",
          "state": {
            "_dom_classes": [],
            "_model_module": "@jupyter-widgets/controls",
            "_model_module_version": "1.5.0",
            "_model_name": "HTMLModel",
            "_view_count": null,
            "_view_module": "@jupyter-widgets/controls",
            "_view_module_version": "1.5.0",
            "_view_name": "HTMLView",
            "description": "",
            "description_tooltip": null,
            "layout": "IPY_MODEL_7fd14780990b4aaf990f4814b8d28f44",
            "placeholder": "​",
            "style": "IPY_MODEL_9183776ddfc443eca11f7af45228fc80",
            "value": "model.safetensors: 100%"
          }
        },
        "50cbe151c71946a8be500c79e8b4c60b": {
          "model_module": "@jupyter-widgets/controls",
          "model_name": "FloatProgressModel",
          "model_module_version": "1.5.0",
          "state": {
            "_dom_classes": [],
            "_model_module": "@jupyter-widgets/controls",
            "_model_module_version": "1.5.0",
            "_model_name": "FloatProgressModel",
            "_view_count": null,
            "_view_module": "@jupyter-widgets/controls",
            "_view_module_version": "1.5.0",
            "_view_name": "ProgressView",
            "bar_style": "success",
            "description": "",
            "description_tooltip": null,
            "layout": "IPY_MODEL_3cf0c04a12db4ec98e3d3431affdd20d",
            "max": 345579424,
            "min": 0,
            "orientation": "horizontal",
            "style": "IPY_MODEL_b22d6f3bbe1340dd98ed86a05f531a87",
            "value": 345579424
          }
        },
        "5719ae8c651c451eb8b1f6054bb92a5f": {
          "model_module": "@jupyter-widgets/controls",
          "model_name": "HTMLModel",
          "model_module_version": "1.5.0",
          "state": {
            "_dom_classes": [],
            "_model_module": "@jupyter-widgets/controls",
            "_model_module_version": "1.5.0",
            "_model_name": "HTMLModel",
            "_view_count": null,
            "_view_module": "@jupyter-widgets/controls",
            "_view_module_version": "1.5.0",
            "_view_name": "HTMLView",
            "description": "",
            "description_tooltip": null,
            "layout": "IPY_MODEL_06ae38db2cf2481e8336a0cf9e3b4830",
            "placeholder": "​",
            "style": "IPY_MODEL_dea915ce079347faa23f184823647c60",
            "value": " 346M/346M [00:01&lt;00:00, 201MB/s]"
          }
        },
        "1b68348cd4ee421ca3d01b73a51c2872": {
          "model_module": "@jupyter-widgets/base",
          "model_name": "LayoutModel",
          "model_module_version": "1.2.0",
          "state": {
            "_model_module": "@jupyter-widgets/base",
            "_model_module_version": "1.2.0",
            "_model_name": "LayoutModel",
            "_view_count": null,
            "_view_module": "@jupyter-widgets/base",
            "_view_module_version": "1.2.0",
            "_view_name": "LayoutView",
            "align_content": null,
            "align_items": null,
            "align_self": null,
            "border": null,
            "bottom": null,
            "display": null,
            "flex": null,
            "flex_flow": null,
            "grid_area": null,
            "grid_auto_columns": null,
            "grid_auto_flow": null,
            "grid_auto_rows": null,
            "grid_column": null,
            "grid_gap": null,
            "grid_row": null,
            "grid_template_areas": null,
            "grid_template_columns": null,
            "grid_template_rows": null,
            "height": null,
            "justify_content": null,
            "justify_items": null,
            "left": null,
            "margin": null,
            "max_height": null,
            "max_width": null,
            "min_height": null,
            "min_width": null,
            "object_fit": null,
            "object_position": null,
            "order": null,
            "overflow": null,
            "overflow_x": null,
            "overflow_y": null,
            "padding": null,
            "right": null,
            "top": null,
            "visibility": null,
            "width": null
          }
        },
        "7fd14780990b4aaf990f4814b8d28f44": {
          "model_module": "@jupyter-widgets/base",
          "model_name": "LayoutModel",
          "model_module_version": "1.2.0",
          "state": {
            "_model_module": "@jupyter-widgets/base",
            "_model_module_version": "1.2.0",
            "_model_name": "LayoutModel",
            "_view_count": null,
            "_view_module": "@jupyter-widgets/base",
            "_view_module_version": "1.2.0",
            "_view_name": "LayoutView",
            "align_content": null,
            "align_items": null,
            "align_self": null,
            "border": null,
            "bottom": null,
            "display": null,
            "flex": null,
            "flex_flow": null,
            "grid_area": null,
            "grid_auto_columns": null,
            "grid_auto_flow": null,
            "grid_auto_rows": null,
            "grid_column": null,
            "grid_gap": null,
            "grid_row": null,
            "grid_template_areas": null,
            "grid_template_columns": null,
            "grid_template_rows": null,
            "height": null,
            "justify_content": null,
            "justify_items": null,
            "left": null,
            "margin": null,
            "max_height": null,
            "max_width": null,
            "min_height": null,
            "min_width": null,
            "object_fit": null,
            "object_position": null,
            "order": null,
            "overflow": null,
            "overflow_x": null,
            "overflow_y": null,
            "padding": null,
            "right": null,
            "top": null,
            "visibility": null,
            "width": null
          }
        },
        "9183776ddfc443eca11f7af45228fc80": {
          "model_module": "@jupyter-widgets/controls",
          "model_name": "DescriptionStyleModel",
          "model_module_version": "1.5.0",
          "state": {
            "_model_module": "@jupyter-widgets/controls",
            "_model_module_version": "1.5.0",
            "_model_name": "DescriptionStyleModel",
            "_view_count": null,
            "_view_module": "@jupyter-widgets/base",
            "_view_module_version": "1.2.0",
            "_view_name": "StyleView",
            "description_width": ""
          }
        },
        "3cf0c04a12db4ec98e3d3431affdd20d": {
          "model_module": "@jupyter-widgets/base",
          "model_name": "LayoutModel",
          "model_module_version": "1.2.0",
          "state": {
            "_model_module": "@jupyter-widgets/base",
            "_model_module_version": "1.2.0",
            "_model_name": "LayoutModel",
            "_view_count": null,
            "_view_module": "@jupyter-widgets/base",
            "_view_module_version": "1.2.0",
            "_view_name": "LayoutView",
            "align_content": null,
            "align_items": null,
            "align_self": null,
            "border": null,
            "bottom": null,
            "display": null,
            "flex": null,
            "flex_flow": null,
            "grid_area": null,
            "grid_auto_columns": null,
            "grid_auto_flow": null,
            "grid_auto_rows": null,
            "grid_column": null,
            "grid_gap": null,
            "grid_row": null,
            "grid_template_areas": null,
            "grid_template_columns": null,
            "grid_template_rows": null,
            "height": null,
            "justify_content": null,
            "justify_items": null,
            "left": null,
            "margin": null,
            "max_height": null,
            "max_width": null,
            "min_height": null,
            "min_width": null,
            "object_fit": null,
            "object_position": null,
            "order": null,
            "overflow": null,
            "overflow_x": null,
            "overflow_y": null,
            "padding": null,
            "right": null,
            "top": null,
            "visibility": null,
            "width": null
          }
        },
        "b22d6f3bbe1340dd98ed86a05f531a87": {
          "model_module": "@jupyter-widgets/controls",
          "model_name": "ProgressStyleModel",
          "model_module_version": "1.5.0",
          "state": {
            "_model_module": "@jupyter-widgets/controls",
            "_model_module_version": "1.5.0",
            "_model_name": "ProgressStyleModel",
            "_view_count": null,
            "_view_module": "@jupyter-widgets/base",
            "_view_module_version": "1.2.0",
            "_view_name": "StyleView",
            "bar_color": null,
            "description_width": ""
          }
        },
        "06ae38db2cf2481e8336a0cf9e3b4830": {
          "model_module": "@jupyter-widgets/base",
          "model_name": "LayoutModel",
          "model_module_version": "1.2.0",
          "state": {
            "_model_module": "@jupyter-widgets/base",
            "_model_module_version": "1.2.0",
            "_model_name": "LayoutModel",
            "_view_count": null,
            "_view_module": "@jupyter-widgets/base",
            "_view_module_version": "1.2.0",
            "_view_name": "LayoutView",
            "align_content": null,
            "align_items": null,
            "align_self": null,
            "border": null,
            "bottom": null,
            "display": null,
            "flex": null,
            "flex_flow": null,
            "grid_area": null,
            "grid_auto_columns": null,
            "grid_auto_flow": null,
            "grid_auto_rows": null,
            "grid_column": null,
            "grid_gap": null,
            "grid_row": null,
            "grid_template_areas": null,
            "grid_template_columns": null,
            "grid_template_rows": null,
            "height": null,
            "justify_content": null,
            "justify_items": null,
            "left": null,
            "margin": null,
            "max_height": null,
            "max_width": null,
            "min_height": null,
            "min_width": null,
            "object_fit": null,
            "object_position": null,
            "order": null,
            "overflow": null,
            "overflow_x": null,
            "overflow_y": null,
            "padding": null,
            "right": null,
            "top": null,
            "visibility": null,
            "width": null
          }
        },
        "dea915ce079347faa23f184823647c60": {
          "model_module": "@jupyter-widgets/controls",
          "model_name": "DescriptionStyleModel",
          "model_module_version": "1.5.0",
          "state": {
            "_model_module": "@jupyter-widgets/controls",
            "_model_module_version": "1.5.0",
            "_model_name": "DescriptionStyleModel",
            "_view_count": null,
            "_view_module": "@jupyter-widgets/base",
            "_view_module_version": "1.2.0",
            "_view_name": "StyleView",
            "description_width": ""
          }
        }
      }
    }
  },
  "cells": [
    {
      "cell_type": "markdown",
      "source": [
        "#### Classification"
      ],
      "metadata": {
        "id": "HeTTsV0AYbS4"
      }
    },
    {
      "cell_type": "code",
      "execution_count": null,
      "metadata": {
        "colab": {
          "base_uri": "https://localhost:8080/",
          "height": 986,
          "referenced_widgets": [
            "64e66ac765234f2fb8859ec51cc2eaad",
            "4037a2c0ed9d4f7096d18254830bbd7d",
            "9d66511eb2ce4c6f99c09807e6ce8484",
            "4ff31565288f4ab79f916c8336812654",
            "d9d7dde649c643758b07b5838961872a",
            "91c270c6355d4817b7c150c2c8b39ae8",
            "57ffb29b6d384e09a4c37ca5147ad340",
            "cf2bc2a819c54c248cdb473da75e9622",
            "84a985f658904baa92728c619c71773d",
            "741cd6007d94481aaf942b5e50693e52",
            "48c99d6d6d1640b2ad93490d104181dd",
            "a1048199c2a147e4b3727dd192573e72",
            "27e8fbaabe5c4d62b106fffa2e6cff81",
            "50cbe151c71946a8be500c79e8b4c60b",
            "5719ae8c651c451eb8b1f6054bb92a5f",
            "1b68348cd4ee421ca3d01b73a51c2872",
            "7fd14780990b4aaf990f4814b8d28f44",
            "9183776ddfc443eca11f7af45228fc80",
            "3cf0c04a12db4ec98e3d3431affdd20d",
            "b22d6f3bbe1340dd98ed86a05f531a87",
            "06ae38db2cf2481e8336a0cf9e3b4830",
            "dea915ce079347faa23f184823647c60"
          ]
        },
        "id": "jIJuaQOFdgd9",
        "outputId": "87613e40-7d4a-43b2-caa0-f89ecf5fd769"
      },
      "outputs": [
        {
          "output_type": "stream",
          "name": "stdout",
          "text": [
            "Downloading http://yann.lecun.com/exdb/mnist/train-images-idx3-ubyte.gz\n",
            "Failed to download (trying next):\n",
            "HTTP Error 403: Forbidden\n",
            "\n",
            "Downloading https://ossci-datasets.s3.amazonaws.com/mnist/train-images-idx3-ubyte.gz\n",
            "Downloading https://ossci-datasets.s3.amazonaws.com/mnist/train-images-idx3-ubyte.gz to ./data/MNIST/raw/train-images-idx3-ubyte.gz\n"
          ]
        },
        {
          "output_type": "stream",
          "name": "stderr",
          "text": [
            "100%|██████████| 9.91M/9.91M [00:11<00:00, 898kB/s] \n"
          ]
        },
        {
          "output_type": "stream",
          "name": "stdout",
          "text": [
            "Extracting ./data/MNIST/raw/train-images-idx3-ubyte.gz to ./data/MNIST/raw\n",
            "\n",
            "Downloading http://yann.lecun.com/exdb/mnist/train-labels-idx1-ubyte.gz\n",
            "Failed to download (trying next):\n",
            "HTTP Error 403: Forbidden\n",
            "\n",
            "Downloading https://ossci-datasets.s3.amazonaws.com/mnist/train-labels-idx1-ubyte.gz\n",
            "Downloading https://ossci-datasets.s3.amazonaws.com/mnist/train-labels-idx1-ubyte.gz to ./data/MNIST/raw/train-labels-idx1-ubyte.gz\n"
          ]
        },
        {
          "output_type": "stream",
          "name": "stderr",
          "text": [
            "100%|██████████| 28.9k/28.9k [00:00<00:00, 134kB/s]\n"
          ]
        },
        {
          "output_type": "stream",
          "name": "stdout",
          "text": [
            "Extracting ./data/MNIST/raw/train-labels-idx1-ubyte.gz to ./data/MNIST/raw\n",
            "\n",
            "Downloading http://yann.lecun.com/exdb/mnist/t10k-images-idx3-ubyte.gz\n",
            "Failed to download (trying next):\n",
            "HTTP Error 403: Forbidden\n",
            "\n",
            "Downloading https://ossci-datasets.s3.amazonaws.com/mnist/t10k-images-idx3-ubyte.gz\n",
            "Downloading https://ossci-datasets.s3.amazonaws.com/mnist/t10k-images-idx3-ubyte.gz to ./data/MNIST/raw/t10k-images-idx3-ubyte.gz\n"
          ]
        },
        {
          "output_type": "stream",
          "name": "stderr",
          "text": [
            "100%|██████████| 1.65M/1.65M [00:01<00:00, 1.26MB/s]\n"
          ]
        },
        {
          "output_type": "stream",
          "name": "stdout",
          "text": [
            "Extracting ./data/MNIST/raw/t10k-images-idx3-ubyte.gz to ./data/MNIST/raw\n",
            "\n",
            "Downloading http://yann.lecun.com/exdb/mnist/t10k-labels-idx1-ubyte.gz\n",
            "Failed to download (trying next):\n",
            "HTTP Error 403: Forbidden\n",
            "\n",
            "Downloading https://ossci-datasets.s3.amazonaws.com/mnist/t10k-labels-idx1-ubyte.gz\n",
            "Downloading https://ossci-datasets.s3.amazonaws.com/mnist/t10k-labels-idx1-ubyte.gz to ./data/MNIST/raw/t10k-labels-idx1-ubyte.gz\n"
          ]
        },
        {
          "output_type": "stream",
          "name": "stderr",
          "text": [
            "100%|██████████| 4.54k/4.54k [00:00<00:00, 6.04MB/s]\n"
          ]
        },
        {
          "output_type": "stream",
          "name": "stdout",
          "text": [
            "Extracting ./data/MNIST/raw/t10k-labels-idx1-ubyte.gz to ./data/MNIST/raw\n",
            "\n"
          ]
        },
        {
          "output_type": "stream",
          "name": "stderr",
          "text": [
            "/usr/local/lib/python3.10/dist-packages/huggingface_hub/utils/_auth.py:94: UserWarning: \n",
            "The secret `HF_TOKEN` does not exist in your Colab secrets.\n",
            "To authenticate with the Hugging Face Hub, create a token in your settings tab (https://huggingface.co/settings/tokens), set it as secret in your Google Colab and restart your session.\n",
            "You will be able to reuse this secret in all of your notebooks.\n",
            "Please note that authentication is recommended but still optional to access public models or datasets.\n",
            "  warnings.warn(\n"
          ]
        },
        {
          "output_type": "display_data",
          "data": {
            "text/plain": [
              "config.json:   0%|          | 0.00/502 [00:00<?, ?B/s]"
            ],
            "application/vnd.jupyter.widget-view+json": {
              "version_major": 2,
              "version_minor": 0,
              "model_id": "64e66ac765234f2fb8859ec51cc2eaad"
            }
          },
          "metadata": {}
        },
        {
          "output_type": "display_data",
          "data": {
            "text/plain": [
              "model.safetensors:   0%|          | 0.00/346M [00:00<?, ?B/s]"
            ],
            "application/vnd.jupyter.widget-view+json": {
              "version_major": 2,
              "version_minor": 0,
              "model_id": "a1048199c2a147e4b3727dd192573e72"
            }
          },
          "metadata": {}
        },
        {
          "output_type": "stream",
          "name": "stdout",
          "text": [
            "Starting Pretraining...\n",
            "Epoch 1/3, Pretrain Loss: 0.0094, Pretrain Accuracy: 95.38%\n",
            "Epoch 2/3, Pretrain Loss: 0.0001, Pretrain Accuracy: 99.99%\n",
            "Epoch 3/3, Pretrain Loss: 0.0000, Pretrain Accuracy: 100.00%\n",
            "Starting Fine-tuning...\n",
            "Epoch 1/3, Train Loss: 0.1712, Train Accuracy: 94.19%, Val Loss: 0.0742, Val Accuracy: 98.05%\n",
            "Epoch 2/3, Train Loss: 0.0361, Train Accuracy: 98.92%, Val Loss: 0.0532, Val Accuracy: 98.31%\n",
            "Epoch 3/3, Train Loss: 0.0287, Train Accuracy: 99.18%, Val Loss: 0.0583, Val Accuracy: 98.23%\n",
            "Model saved successfully!\n"
          ]
        }
      ],
      "source": [
        "import torch\n",
        "import torch.nn as nn\n",
        "import torch.nn.functional as F\n",
        "from torch.optim import Adam\n",
        "from torch.nn import CrossEntropyLoss\n",
        "from torchvision import datasets, transforms\n",
        "from torch.utils.data import DataLoader\n",
        "from transformers import ViTModel, ViTConfig\n",
        "\n",
        "device = torch.device(\"cuda\" if torch.cuda.is_available() else \"cpu\")\n",
        "\n",
        "transform = transforms.Compose([\n",
        "    transforms.Resize((224, 224)),\n",
        "    transforms.Grayscale(3),\n",
        "    transforms.ToTensor(),\n",
        "    transforms.Normalize(mean=(0.5,), std=(0.5,))\n",
        "])\n",
        "\n",
        "train_dataset = datasets.MNIST(root=\"./data\", train=True, download=True, transform=transform)\n",
        "test_dataset = datasets.MNIST(root=\"./data\", train=False, download=True, transform=transform)\n",
        "\n",
        "train_loader = DataLoader(train_dataset, batch_size=16, shuffle=True)\n",
        "test_loader = DataLoader(test_dataset, batch_size=16, shuffle=False)\n",
        "\n",
        "pretrain_loader = train_loader\n",
        "\n",
        "# Masked Autoencoder Class...\n",
        "class MaskedAutoencoder(nn.Module):\n",
        "    def __init__(self, vit_model, mask_ratio=0.75):\n",
        "        super(MaskedAutoencoder, self).__init__()\n",
        "        self.vit = vit_model\n",
        "        self.mask_ratio = mask_ratio\n",
        "        self.decoder = nn.Linear(vit_model.config.hidden_size, vit_model.config.patch_size ** 2 * 3)\n",
        "\n",
        "    def forward(self, x, mask=True):\n",
        "        batch_size, _, height, width = x.shape\n",
        "        patch_size = self.vit.config.patch_size\n",
        "\n",
        "        patches = x.unfold(2, patch_size, patch_size).unfold(3, patch_size, patch_size)\n",
        "        patches = patches.contiguous().view(batch_size, 3, -1, patch_size * patch_size)\n",
        "        patches = patches.permute(0, 2, 1, 3).reshape(batch_size, -1, patch_size * patch_size * 3)\n",
        "\n",
        "        # Apply masking...\n",
        "        if mask:\n",
        "            num_patches = patches.shape[1]\n",
        "            num_masked = int(self.mask_ratio * num_patches)\n",
        "            mask_indices = torch.randperm(num_patches)[:num_masked]\n",
        "            patches[:, mask_indices, :] = 0\n",
        "\n",
        "        # Encode using ViT...\n",
        "        encoded = self.vit(pixel_values=x).last_hidden_state\n",
        "\n",
        "        decoded = self.decoder(encoded[:, 1:, :])\n",
        "\n",
        "        grid_size = int((decoded.shape[1])**0.5)\n",
        "        decoded = decoded.view(batch_size, grid_size, grid_size, patch_size, patch_size, 3)\n",
        "        decoded = decoded.permute(0, 5, 1, 3, 2, 4).contiguous()\n",
        "        reconstructed = decoded.view(batch_size, 3, height, width)\n",
        "\n",
        "        return reconstructed\n",
        "\n",
        "# ViT-MAE Classification Model...\n",
        "class ViTMAEClassification(nn.Module):\n",
        "    def __init__(self, mae_model, num_classes):\n",
        "        super(ViTMAEClassification, self).__init__()\n",
        "        self.mae = mae_model\n",
        "        self.classifier = nn.Linear(mae_model.vit.config.hidden_size, num_classes)\n",
        "\n",
        "    def forward(self, x):\n",
        "        encoded = self.mae.vit(pixel_values=x).pooler_output\n",
        "        return self.classifier(encoded)\n",
        "\n",
        "vit_config = ViTConfig.from_pretrained(\"google/vit-base-patch16-224-in21k\")\n",
        "vit_model = ViTModel.from_pretrained(\"google/vit-base-patch16-224-in21k\", config=vit_config)\n",
        "mae_model = MaskedAutoencoder(vit_model)\n",
        "vitmae_cls_model = ViTMAEClassification(mae_model, num_classes=10).to(device)\n",
        "\n",
        "optimizer_mae = Adam(mae_model.parameters(), lr=1e-4)\n",
        "criterion_mae = nn.MSELoss()\n",
        "optimizer_cls = Adam(vitmae_cls_model.parameters(), lr=1e-4)\n",
        "criterion_cls = CrossEntropyLoss()\n",
        "\n",
        "def pretrain_mae(model, loader, optimizer, criterion, device, epochs=3):\n",
        "    model.train()\n",
        "    for epoch in range(epochs):\n",
        "        total_loss = 0\n",
        "        total_correct = 0\n",
        "        total_samples = 0\n",
        "        for images, _ in loader:\n",
        "            images = images.to(device)\n",
        "            optimizer.zero_grad()\n",
        "\n",
        "            reconstructed = model(images, mask=True)\n",
        "            loss = criterion(reconstructed, images)\n",
        "            loss.backward()\n",
        "            optimizer.step()\n",
        "\n",
        "            total_loss += loss.item()\n",
        "\n",
        "            total_correct += torch.isclose(reconstructed, images, atol=0.1).sum().item()\n",
        "            total_samples += images.numel()\n",
        "\n",
        "        accuracy = (total_correct / total_samples) * 100\n",
        "        print(f\"Epoch {epoch+1}/{epochs}, Pretrain Loss: {total_loss/len(loader):.4f}, Pretrain Accuracy: {accuracy:.2f}%\")\n",
        "\n",
        "def train_classification(model, loader, optimizer, criterion, device):\n",
        "    model.train()\n",
        "    total_loss = 0\n",
        "    total_correct = 0\n",
        "    total_samples = 0\n",
        "\n",
        "    for images, labels in loader:\n",
        "        images, labels = images.to(device), labels.to(device)\n",
        "        optimizer.zero_grad()\n",
        "\n",
        "        outputs = model(images)\n",
        "        loss = criterion(outputs, labels)\n",
        "        loss.backward()\n",
        "        optimizer.step()\n",
        "\n",
        "        total_loss += loss.item()\n",
        "\n",
        "        predictions = torch.argmax(outputs, dim=1)\n",
        "        total_correct += (predictions == labels).sum().item()\n",
        "        total_samples += labels.size(0)\n",
        "\n",
        "    accuracy = (total_correct / total_samples) * 100\n",
        "    return total_loss / len(loader), accuracy\n",
        "\n",
        "def validate_classification(model, loader, criterion, device):\n",
        "    model.eval()\n",
        "    total_loss = 0\n",
        "    total_correct = 0\n",
        "    total_samples = 0\n",
        "\n",
        "    with torch.no_grad():\n",
        "        for images, labels in loader:\n",
        "            images, labels = images.to(device), labels.to(device)\n",
        "\n",
        "            outputs = model(images)\n",
        "            loss = criterion(outputs, labels)\n",
        "            total_loss += loss.item()\n",
        "\n",
        "            predictions = torch.argmax(outputs, dim=1)\n",
        "            total_correct += (predictions == labels).sum().item()\n",
        "            total_samples += labels.size(0)\n",
        "\n",
        "    accuracy = (total_correct / total_samples) * 100\n",
        "    return total_loss / len(loader), accuracy\n",
        "\n",
        "print(\"Starting Pretraining...\")\n",
        "pretrain_mae(mae_model, pretrain_loader, optimizer_mae, criterion_mae, device, epochs=3)\n",
        "\n",
        "print(\"Starting Fine-tuning...\")\n",
        "num_epochs = 3\n",
        "for epoch in range(num_epochs):\n",
        "    train_loss, train_accuracy = train_classification(vitmae_cls_model, train_loader, optimizer_cls, criterion_cls, device)\n",
        "    val_loss, val_accuracy = validate_classification(vitmae_cls_model, test_loader, criterion_cls, device)\n",
        "    print(f\"Epoch {epoch+1}/{num_epochs}, Train Loss: {train_loss:.4f}, Train Accuracy: {train_accuracy:.2f}%, Val Loss: {val_loss:.4f}, Val Accuracy: {val_accuracy:.2f}%\")\n",
        "\n",
        "torch.save(vitmae_cls_model.state_dict(), \"vit_mae_mnist_classification_model.pth\")\n",
        "print(\"Model saved successfully!\")\n"
      ]
    },
    {
      "cell_type": "code",
      "source": [
        "import torch\n",
        "import torch.nn as nn\n",
        "import torch.nn.functional as F\n",
        "from torch.optim import Adam\n",
        "from torch.nn import CrossEntropyLoss\n",
        "from torchvision import datasets, transforms\n",
        "from torch.utils.data import DataLoader\n",
        "from transformers import ViTModel, ViTConfig\n",
        "\n",
        "device = torch.device(\"cuda\" if torch.cuda.is_available() else \"cpu\")\n",
        "\n",
        "transform = transforms.Compose([\n",
        "    transforms.Resize((224, 224)),\n",
        "    transforms.Grayscale(3),\n",
        "    transforms.ToTensor(),\n",
        "    transforms.Normalize(mean=(0.5,), std=(0.5,))\n",
        "])\n",
        "\n",
        "train_dataset = datasets.MNIST(root=\"./data\", train=True, download=True, transform=transform)\n",
        "test_dataset = datasets.MNIST(root=\"./data\", train=False, download=True, transform=transform)\n",
        "\n",
        "train_loader = DataLoader(train_dataset, batch_size=16, shuffle=True)\n",
        "test_loader = DataLoader(test_dataset, batch_size=16, shuffle=False)\n",
        "pretrain_loader = train_loader\n",
        "\n",
        "# Masked Autoencoder Class...\n",
        "class MaskedAutoencoder(nn.Module):\n",
        "    def __init__(self, vit_model, mask_ratio=0.75):\n",
        "        super(MaskedAutoencoder, self).__init__()\n",
        "        self.vit = vit_model\n",
        "        self.mask_ratio = mask_ratio\n",
        "        self.decoder = nn.Linear(vit_model.config.hidden_size, vit_model.config.patch_size ** 2 * 3)\n",
        "\n",
        "    def forward(self, x, mask=True):\n",
        "        batch_size, _, height, width = x.shape\n",
        "        patch_size = self.vit.config.patch_size\n",
        "\n",
        "        patches = x.unfold(2, patch_size, patch_size).unfold(3, patch_size, patch_size)\n",
        "        patches = patches.contiguous().view(batch_size, 3, -1, patch_size * patch_size)\n",
        "        patches = patches.permute(0, 2, 1, 3).reshape(batch_size, -1, patch_size * patch_size * 3)\n",
        "\n",
        "        # Apply masking..\n",
        "        if mask:\n",
        "            num_patches = patches.shape[1]\n",
        "            num_masked = int(self.mask_ratio * num_patches)\n",
        "            mask_indices = torch.randperm(num_patches)[:num_masked]\n",
        "            patches[:, mask_indices, :] = 0\n",
        "\n",
        "        # Encode using ViT..\n",
        "        encoded = self.vit(pixel_values=x).last_hidden_state\n",
        "\n",
        "        decoded = self.decoder(encoded[:, 1:, :])\n",
        "\n",
        "        grid_size = int((decoded.shape[1])**0.5)\n",
        "        decoded = decoded.view(batch_size, grid_size, grid_size, patch_size, patch_size, 3)\n",
        "        decoded = decoded.permute(0, 5, 1, 3, 2, 4).contiguous()\n",
        "        reconstructed = decoded.view(batch_size, 3, height, width)\n",
        "\n",
        "        return reconstructed\n",
        "\n",
        "# ViT-MAE Classification Model..\n",
        "class ViTMAEClassification(nn.Module):\n",
        "    def __init__(self, mae_model, num_classes):\n",
        "        super(ViTMAEClassification, self).__init__()\n",
        "        self.mae = mae_model\n",
        "        self.classifier = nn.Linear(mae_model.vit.config.hidden_size, num_classes)\n",
        "\n",
        "    def forward(self, x):\n",
        "        encoded = self.mae.vit(pixel_values=x).pooler_output\n",
        "        return self.classifier(encoded)\n",
        "\n",
        "vit_config = ViTConfig.from_pretrained(\"google/vit-base-patch16-224-in21k\")\n",
        "vit_model = ViTModel.from_pretrained(\"google/vit-base-patch16-224-in21k\", config=vit_config)\n",
        "mae_model = MaskedAutoencoder(vit_model)\n",
        "vitmae_cls_model = ViTMAEClassification(mae_model, num_classes=10).to(device)\n",
        "\n",
        "optimizer_mae = Adam(mae_model.parameters(), lr=1e-4)\n",
        "criterion_mae = nn.MSELoss()\n",
        "optimizer_cls = Adam(vitmae_cls_model.parameters(), lr=1e-4)\n",
        "criterion_cls = CrossEntropyLoss()\n",
        "\n",
        "def pretrain_mae(model, loader, optimizer, criterion, device, epochs=3):\n",
        "    model.train()\n",
        "    for epoch in range(epochs):\n",
        "        total_loss = 0\n",
        "        total_correct = 0\n",
        "        total_samples = 0\n",
        "        for images, _ in loader:\n",
        "            images = images.to(device)\n",
        "            optimizer.zero_grad()\n",
        "\n",
        "            reconstructed = model(images, mask=True)\n",
        "            loss = criterion(reconstructed, images)\n",
        "            loss.backward()\n",
        "            optimizer.step()\n",
        "\n",
        "            total_loss += loss.item()\n",
        "\n",
        "            total_correct += torch.isclose(reconstructed, images, atol=0.1).sum().item()\n",
        "            total_samples += images.numel()\n",
        "\n",
        "        accuracy = (total_correct / total_samples) * 100\n",
        "        print(f\"Epoch {epoch+1}/{epochs}, Pretrain Loss: {total_loss/len(loader):.4f}, Pretrain Accuracy: {accuracy:.2f}%\")\n",
        "\n",
        "def train_classification(model, loader, optimizer, criterion, device):\n",
        "    model.train()\n",
        "    total_loss = 0\n",
        "    total_correct = 0\n",
        "    total_samples = 0\n",
        "\n",
        "    for images, labels in loader:\n",
        "        images, labels = images.to(device), labels.to(device)\n",
        "        optimizer.zero_grad()\n",
        "\n",
        "        outputs = model(images)\n",
        "        loss = criterion(outputs, labels)\n",
        "        loss.backward()\n",
        "        optimizer.step()\n",
        "\n",
        "        total_loss += loss.item()\n",
        "\n",
        "        predictions = torch.argmax(outputs, dim=1)\n",
        "        total_correct += (predictions == labels).sum().item()\n",
        "        total_samples += labels.size(0)\n",
        "\n",
        "    accuracy = (total_correct / total_samples) * 100\n",
        "    return total_loss / len(loader), accuracy\n",
        "\n",
        "def validate_classification(model, loader, criterion, device):\n",
        "    model.eval()\n",
        "    total_loss = 0\n",
        "    total_correct = 0\n",
        "    total_samples = 0\n",
        "\n",
        "    with torch.no_grad():\n",
        "        for images, labels in loader:\n",
        "            images, labels = images.to(device), labels.to(device)\n",
        "\n",
        "            outputs = model(images)\n",
        "            loss = criterion(outputs, labels)\n",
        "            total_loss += loss.item()\n",
        "\n",
        "            predictions = torch.argmax(outputs, dim=1)\n",
        "            total_correct += (predictions == labels).sum().item()\n",
        "            total_samples += labels.size(0)\n",
        "\n",
        "    accuracy = (total_correct / total_samples) * 100\n",
        "    return total_loss / len(loader), accuracy\n",
        "\n",
        "print(\"Starting Pretraining...\")\n",
        "pretrain_mae(mae_model, pretrain_loader, optimizer_mae, criterion_mae, device, epochs=3)\n",
        "\n",
        "print(\"Starting Fine-tuning...\")\n",
        "num_epochs = 3\n",
        "for epoch in range(num_epochs):\n",
        "    train_loss, train_accuracy = train_classification(vitmae_cls_model, train_loader, optimizer_cls, criterion_cls, device)\n",
        "    val_loss, val_accuracy = validate_classification(vitmae_cls_model, test_loader, criterion_cls, device)\n",
        "    print(f\"Epoch {epoch+1}/{num_epochs}, Train Loss: {train_loss:.4f}, Train Accuracy: {train_accuracy:.2f}%, Val Loss: {val_loss:.4f}, Val Accuracy: {val_accuracy:.2f}%\")\n",
        "\n",
        "torch.save(vitmae_cls_model.state_dict(), \"vit_mae_mnist_classification_model.pth\")\n",
        "print(\"Model saved successfully!\")\n"
      ],
      "metadata": {
        "colab": {
          "base_uri": "https://localhost:8080/"
        },
        "id": "30G4EFYbb6sC",
        "outputId": "92e6006a-e18e-451d-8508-903536b6cf8c"
      },
      "execution_count": null,
      "outputs": [
        {
          "output_type": "stream",
          "name": "stdout",
          "text": [
            "Starting Pretraining...\n",
            "Epoch 1/3, Pretrain Loss: 0.0096, Pretrain Accuracy: 95.42%\n",
            "Epoch 2/3, Pretrain Loss: 0.0001, Pretrain Accuracy: 99.98%\n",
            "Epoch 3/3, Pretrain Loss: 0.0000, Pretrain Accuracy: 100.00%\n",
            "Starting Fine-tuning...\n",
            "Epoch 1/3, Train Loss: 0.1454, Train Accuracy: 95.21%, Val Loss: 0.0462, Val Accuracy: 98.73%\n",
            "Epoch 2/3, Train Loss: 0.0362, Train Accuracy: 99.02%, Val Loss: 0.0402, Val Accuracy: 98.66%\n",
            "Epoch 3/3, Train Loss: 0.0297, Train Accuracy: 99.14%, Val Loss: 0.0238, Val Accuracy: 99.28%\n",
            "Model saved successfully!\n"
          ]
        }
      ]
    },
    {
      "cell_type": "markdown",
      "source": [
        "#### Segmentation"
      ],
      "metadata": {
        "id": "PMmDHvcsYlns"
      }
    },
    {
      "cell_type": "code",
      "source": [
        "import torch\n",
        "import torch.nn as nn\n",
        "import torch.nn.functional as F\n",
        "from torch.optim import Adam\n",
        "from torch.nn import CrossEntropyLoss\n",
        "from torchvision import datasets, transforms\n",
        "from torch.utils.data import DataLoader\n",
        "from transformers import ViTModel, ViTConfig\n",
        "from PIL import Image\n",
        "import numpy as np\n",
        "\n",
        "device = torch.device(\"cuda\" if torch.cuda.is_available() else \"cpu\")\n",
        "\n",
        "transform = transforms.Compose([\n",
        "    transforms.Resize((224, 224)),\n",
        "    transforms.Grayscale(3),\n",
        "    transforms.ToTensor(),\n",
        "    transforms.Normalize(mean=(0.5,), std=(0.5,))\n",
        "])\n",
        "\n",
        "# Dummy MNIST segmentation dataset...\n",
        "class MNISTSegmentationDataset(datasets.MNIST):\n",
        "    def __getitem__(self, index):\n",
        "        image, label = super().__getitem__(index)\n",
        "        if not isinstance(image, Image.Image):\n",
        "            image = transforms.ToPILImage()(image)\n",
        "\n",
        "        grayscale_image = np.array(image.convert(\"L\"))\n",
        "        mask = np.zeros_like(grayscale_image, dtype=np.uint8)\n",
        "        digit_pixels = grayscale_image > 128\n",
        "        mask[digit_pixels] = label\n",
        "\n",
        "        mask = Image.fromarray(mask)\n",
        "\n",
        "        if self.transform is not None:\n",
        "            image = self.transform(image)\n",
        "            mask = transforms.Resize((224, 224))(mask)\n",
        "            mask = torch.tensor(np.array(mask), dtype=torch.long)\n",
        "\n",
        "        return image, mask\n",
        "\n",
        "train_dataset = MNISTSegmentationDataset(root=\"./data\", train=True, download=True, transform=transform)\n",
        "test_dataset = MNISTSegmentationDataset(root=\"./data\", train=False, download=True, transform=transform)\n",
        "\n",
        "train_loader = DataLoader(train_dataset, batch_size=16, shuffle=True)\n",
        "test_loader = DataLoader(test_dataset, batch_size=16, shuffle=False)\n",
        "\n",
        "# Masked Autoencoder Class..\n",
        "class MaskedAutoencoder(nn.Module):\n",
        "    def __init__(self, vit_model, mask_ratio=0.75):\n",
        "        super(MaskedAutoencoder, self).__init__()\n",
        "        self.vit = vit_model\n",
        "        self.mask_ratio = mask_ratio\n",
        "\n",
        "    def forward(self, x, mask=True):\n",
        "        encoded = self.vit(pixel_values=x).last_hidden_state[:, 1:, :]\n",
        "        return encoded\n",
        "\n",
        "# ViT-MAE Segmentation Model...\n",
        "class ViTMAESegmentation(nn.Module):\n",
        "    def __init__(self, mae_model, num_classes):\n",
        "        super(ViTMAESegmentation, self).__init__()\n",
        "        self.mae = mae_model\n",
        "        self.segmentation_decoder = nn.Conv2d(mae_model.vit.config.hidden_size, num_classes, kernel_size=1)\n",
        "\n",
        "    def forward(self, x):\n",
        "        encoded = self.mae(x)\n",
        "        batch_size, seq_len, hidden_size = encoded.shape\n",
        "        grid_size = int(seq_len ** 0.5)\n",
        "        encoded = encoded.permute(0, 2, 1).view(batch_size, hidden_size, grid_size, grid_size)\n",
        "        return F.interpolate(self.segmentation_decoder(encoded), size=(224, 224), mode=\"bilinear\")\n",
        "\n",
        "vit_config = ViTConfig.from_pretrained(\"google/vit-base-patch16-224-in21k\")\n",
        "vit_model = ViTModel.from_pretrained(\"google/vit-base-patch16-224-in21k\", config=vit_config)\n",
        "mae_model = MaskedAutoencoder(vit_model)\n",
        "vitmae_seg_model = ViTMAESegmentation(mae_model, num_classes=10).to(device)\n",
        "\n",
        "optimizer_seg = Adam(vitmae_seg_model.parameters(), lr=1e-4)\n",
        "criterion_seg = CrossEntropyLoss()\n",
        "\n",
        "def calculate_accuracy(predictions, masks):\n",
        "    preds = torch.argmax(predictions, dim=1)\n",
        "    correct = (preds == masks).sum().item()\n",
        "    total = masks.numel()\n",
        "    return correct / total * 100\n",
        "\n",
        "def train_segmentation(model, loader, optimizer, criterion, device):\n",
        "    model.train()\n",
        "    total_loss = 0\n",
        "    total_accuracy = 0\n",
        "    for images, masks in loader:\n",
        "        images, masks = images.to(device), masks.to(device)\n",
        "        optimizer.zero_grad()\n",
        "        outputs = model(images)\n",
        "        loss = criterion(outputs, masks)\n",
        "        loss.backward()\n",
        "        optimizer.step()\n",
        "        total_loss += loss.item()\n",
        "        total_accuracy += calculate_accuracy(outputs, masks)\n",
        "    return total_loss / len(loader), total_accuracy / len(loader)\n",
        "\n",
        "def validate_segmentation(model, loader, criterion, device):\n",
        "    model.eval()\n",
        "    total_loss = 0\n",
        "    total_accuracy = 0\n",
        "    with torch.no_grad():\n",
        "        for images, masks in loader:\n",
        "            images, masks = images.to(device), masks.to(device)\n",
        "            outputs = model(images)\n",
        "            loss = criterion(outputs, masks)\n",
        "            total_loss += loss.item()\n",
        "            total_accuracy += calculate_accuracy(outputs, masks)\n",
        "    return total_loss / len(loader), total_accuracy / len(loader)\n",
        "\n",
        "num_epochs = 3\n",
        "for epoch in range(num_epochs):\n",
        "    train_loss, train_accuracy = train_segmentation(vitmae_seg_model, train_loader, optimizer_seg, criterion_seg, device)\n",
        "    val_loss, val_accuracy = validate_segmentation(vitmae_seg_model, test_loader, criterion_seg, device)\n",
        "    print(f\"Epoch {epoch+1}/{num_epochs}, Train Loss: {train_loss:.4f}, Train Accuracy: {train_accuracy:.2f}%, Validation Loss: {val_loss:.4f}, Validation Accuracy: {val_accuracy:.2f}%\")\n",
        "\n",
        "torch.save(vitmae_seg_model.state_dict(), \"vit_mae_mnist_segmentation_model.pth\")\n",
        "print(\"Model saved successfully!\")\n"
      ],
      "metadata": {
        "colab": {
          "base_uri": "https://localhost:8080/"
        },
        "id": "cnUXWfC-M8Eg",
        "outputId": "020362cf-c4af-46ac-8d20-16cc67af0686"
      },
      "execution_count": null,
      "outputs": [
        {
          "output_type": "stream",
          "name": "stdout",
          "text": [
            "Epoch 1/3, Train Loss: 0.1224, Train Accuracy: 94.11%, Validation Loss: 0.0959, Validation Accuracy: 94.42%\n",
            "Epoch 2/3, Train Loss: 0.0965, Train Accuracy: 94.36%, Validation Loss: 0.0944, Validation Accuracy: 94.42%\n",
            "Epoch 3/3, Train Loss: 0.0947, Train Accuracy: 94.36%, Validation Loss: 0.0930, Validation Accuracy: 94.39%\n",
            "Model saved successfully!\n"
          ]
        }
      ]
    },
    {
      "cell_type": "markdown",
      "source": [
        "#### Inference"
      ],
      "metadata": {
        "id": "x2hz9XolYsYk"
      }
    },
    {
      "cell_type": "code",
      "source": [
        "from torchvision import datasets\n",
        "from PIL import Image\n",
        "\n",
        "mnist_data = datasets.MNIST(root=\"./data\", train=True, download=True)\n",
        "image, label = mnist_data[0]\n",
        "image.save(\"sample_digit.png\")\n",
        "print(f\"Sample digit saved with label {label}.\")\n"
      ],
      "metadata": {
        "colab": {
          "base_uri": "https://localhost:8080/"
        },
        "id": "A2-d1nimvIDs",
        "outputId": "d9f7dc02-6ea5-4109-cfd0-7c9970de5188"
      },
      "execution_count": null,
      "outputs": [
        {
          "output_type": "stream",
          "name": "stdout",
          "text": [
            "Downloading http://yann.lecun.com/exdb/mnist/train-images-idx3-ubyte.gz\n",
            "Failed to download (trying next):\n",
            "HTTP Error 403: Forbidden\n",
            "\n",
            "Downloading https://ossci-datasets.s3.amazonaws.com/mnist/train-images-idx3-ubyte.gz\n",
            "Downloading https://ossci-datasets.s3.amazonaws.com/mnist/train-images-idx3-ubyte.gz to ./data/MNIST/raw/train-images-idx3-ubyte.gz\n"
          ]
        },
        {
          "output_type": "stream",
          "name": "stderr",
          "text": [
            "100%|██████████| 9.91M/9.91M [00:00<00:00, 18.0MB/s]\n"
          ]
        },
        {
          "output_type": "stream",
          "name": "stdout",
          "text": [
            "Extracting ./data/MNIST/raw/train-images-idx3-ubyte.gz to ./data/MNIST/raw\n",
            "\n",
            "Downloading http://yann.lecun.com/exdb/mnist/train-labels-idx1-ubyte.gz\n",
            "Failed to download (trying next):\n",
            "HTTP Error 403: Forbidden\n",
            "\n",
            "Downloading https://ossci-datasets.s3.amazonaws.com/mnist/train-labels-idx1-ubyte.gz\n",
            "Downloading https://ossci-datasets.s3.amazonaws.com/mnist/train-labels-idx1-ubyte.gz to ./data/MNIST/raw/train-labels-idx1-ubyte.gz\n"
          ]
        },
        {
          "output_type": "stream",
          "name": "stderr",
          "text": [
            "100%|██████████| 28.9k/28.9k [00:00<00:00, 488kB/s]\n"
          ]
        },
        {
          "output_type": "stream",
          "name": "stdout",
          "text": [
            "Extracting ./data/MNIST/raw/train-labels-idx1-ubyte.gz to ./data/MNIST/raw\n",
            "\n",
            "Downloading http://yann.lecun.com/exdb/mnist/t10k-images-idx3-ubyte.gz\n",
            "Failed to download (trying next):\n",
            "HTTP Error 403: Forbidden\n",
            "\n",
            "Downloading https://ossci-datasets.s3.amazonaws.com/mnist/t10k-images-idx3-ubyte.gz\n",
            "Downloading https://ossci-datasets.s3.amazonaws.com/mnist/t10k-images-idx3-ubyte.gz to ./data/MNIST/raw/t10k-images-idx3-ubyte.gz\n"
          ]
        },
        {
          "output_type": "stream",
          "name": "stderr",
          "text": [
            "100%|██████████| 1.65M/1.65M [00:00<00:00, 4.48MB/s]\n"
          ]
        },
        {
          "output_type": "stream",
          "name": "stdout",
          "text": [
            "Extracting ./data/MNIST/raw/t10k-images-idx3-ubyte.gz to ./data/MNIST/raw\n",
            "\n",
            "Downloading http://yann.lecun.com/exdb/mnist/t10k-labels-idx1-ubyte.gz\n",
            "Failed to download (trying next):\n",
            "HTTP Error 403: Forbidden\n",
            "\n",
            "Downloading https://ossci-datasets.s3.amazonaws.com/mnist/t10k-labels-idx1-ubyte.gz\n",
            "Downloading https://ossci-datasets.s3.amazonaws.com/mnist/t10k-labels-idx1-ubyte.gz to ./data/MNIST/raw/t10k-labels-idx1-ubyte.gz\n"
          ]
        },
        {
          "output_type": "stream",
          "name": "stderr",
          "text": [
            "100%|██████████| 4.54k/4.54k [00:00<00:00, 5.12MB/s]"
          ]
        },
        {
          "output_type": "stream",
          "name": "stdout",
          "text": [
            "Extracting ./data/MNIST/raw/t10k-labels-idx1-ubyte.gz to ./data/MNIST/raw\n",
            "\n",
            "Sample digit saved with label 5.\n"
          ]
        },
        {
          "output_type": "stream",
          "name": "stderr",
          "text": [
            "\n"
          ]
        }
      ]
    },
    {
      "cell_type": "code",
      "source": [
        "import os\n",
        "from torchvision import datasets\n",
        "from PIL import Image\n",
        "\n",
        "mnist_data = datasets.MNIST(root=\"./data\", train=True, download=True)\n",
        "output_dir = \"./mnist_images\"\n",
        "os.makedirs(output_dir, exist_ok=True)\n",
        "\n",
        "num_images_to_save = 10\n",
        "\n",
        "for idx in range(num_images_to_save):\n",
        "    image, label = mnist_data[idx]\n",
        "    file_name = f\"digit_{idx}_label_{label}.png\"\n",
        "    image.save(os.path.join(output_dir, file_name))\n",
        "    print(f\"Saved: {file_name}\")\n"
      ],
      "metadata": {
        "colab": {
          "base_uri": "https://localhost:8080/"
        },
        "id": "4Algta0ewacv",
        "outputId": "b93eb7a6-8704-4cce-92d5-495c2c9e1ba5"
      },
      "execution_count": null,
      "outputs": [
        {
          "output_type": "stream",
          "name": "stdout",
          "text": [
            "Saved: digit_0_label_5.png\n",
            "Saved: digit_1_label_0.png\n",
            "Saved: digit_2_label_4.png\n",
            "Saved: digit_3_label_1.png\n",
            "Saved: digit_4_label_9.png\n",
            "Saved: digit_5_label_2.png\n",
            "Saved: digit_6_label_1.png\n",
            "Saved: digit_7_label_3.png\n",
            "Saved: digit_8_label_1.png\n",
            "Saved: digit_9_label_4.png\n"
          ]
        }
      ]
    },
    {
      "cell_type": "code",
      "source": [
        "import torch\n",
        "from torchvision import transforms\n",
        "from PIL import Image\n",
        "\n",
        "transform = transforms.Compose([\n",
        "    transforms.Resize((224, 224)),\n",
        "    transforms.Grayscale(3),\n",
        "    transforms.ToTensor(),\n",
        "    transforms.Normalize(mean=(0.5,), std=(0.5,))\n",
        "])\n",
        "\n",
        "num_classes = 10\n",
        "vit_config = ViTConfig.from_pretrained(\"google/vit-base-patch16-224-in21k\")\n",
        "vit_model = ViTModel.from_pretrained(\"google/vit-base-patch16-224-in21k\", config=vit_config)\n",
        "mae_model = MaskedAutoencoder(vit_model)\n",
        "vitmae_cls_model = ViTMAEClassification(mae_model, num_classes=num_classes)\n",
        "vitmae_cls_model.load_state_dict(torch.load(\"vit_mae_mnist_classification_model.pth\"))\n",
        "vitmae_cls_model.eval().to(device)\n",
        "\n",
        "def infer_image(image_path):\n",
        "    image = Image.open(image_path).convert(\"L\")\n",
        "    image = transform(image).unsqueeze(0).to(device)\n",
        "\n",
        "    with torch.no_grad():\n",
        "        outputs = vitmae_cls_model(image)\n",
        "        probabilities = torch.softmax(outputs, dim=1)\n",
        "        predicted_class = torch.argmax(probabilities).item()\n",
        "\n",
        "    return predicted_class, probabilities.squeeze().cpu().numpy()\n",
        "\n",
        "image_path = \"./sample_digit.png\"\n",
        "predicted_class, probabilities = infer_image(image_path)\n",
        "\n",
        "print(f\"Predicted Class: {predicted_class}\")\n",
        "print(f\"Probabilities: {probabilities}\")\n"
      ],
      "metadata": {
        "colab": {
          "base_uri": "https://localhost:8080/"
        },
        "id": "4w2y0Bjpk2_U",
        "outputId": "ad56cc72-9bc5-42e4-f33e-4766b024fc80"
      },
      "execution_count": null,
      "outputs": [
        {
          "output_type": "stream",
          "name": "stderr",
          "text": [
            "<ipython-input-10-e5e290e8c9b2>:19: FutureWarning: You are using `torch.load` with `weights_only=False` (the current default value), which uses the default pickle module implicitly. It is possible to construct malicious pickle data which will execute arbitrary code during unpickling (See https://github.com/pytorch/pytorch/blob/main/SECURITY.md#untrusted-models for more details). In a future release, the default value for `weights_only` will be flipped to `True`. This limits the functions that could be executed during unpickling. Arbitrary objects will no longer be allowed to be loaded via this mode unless they are explicitly allowlisted by the user via `torch.serialization.add_safe_globals`. We recommend you start setting `weights_only=True` for any use case where you don't have full control of the loaded file. Please open an issue on GitHub for any issues related to this experimental feature.\n",
            "  vitmae_cls_model.load_state_dict(torch.load(\"vit_mae_mnist_classification_model.pth\"))\n"
          ]
        },
        {
          "output_type": "stream",
          "name": "stdout",
          "text": [
            "Predicted Class: 5\n",
            "Probabilities: [5.5943616e-05 2.2727965e-05 3.1525989e-05 2.3717815e-02 6.1969276e-06\n",
            " 9.7576809e-01 7.9765276e-05 1.6665648e-05 2.1005652e-04 9.1156078e-05]\n"
          ]
        }
      ]
    },
    {
      "cell_type": "code",
      "source": [
        "import os\n",
        "import torch\n",
        "from torchvision import transforms\n",
        "from PIL import Image\n",
        "\n",
        "transform = transforms.Compose([\n",
        "    transforms.Resize((224, 224)),\n",
        "    transforms.Grayscale(3),\n",
        "    transforms.ToTensor(),\n",
        "    transforms.Normalize(mean=(0.5,), std=(0.5,))\n",
        "])\n",
        "\n",
        "num_classes = 10\n",
        "vit_config = ViTConfig.from_pretrained(\"google/vit-base-patch16-224-in21k\")\n",
        "vit_model = ViTModel.from_pretrained(\"google/vit-base-patch16-224-in21k\", config=vit_config)\n",
        "mae_model = MaskedAutoencoder(vit_model)\n",
        "vitmae_cls_model = ViTMAEClassification(mae_model, num_classes=num_classes)\n",
        "vitmae_cls_model.load_state_dict(torch.load(\"vit_mae_mnist_classification_model.pth\"))\n",
        "vitmae_cls_model.eval().to(device)\n",
        "\n",
        "def infer_image(image_path):\n",
        "    image = Image.open(image_path).convert(\"L\")\n",
        "    image = transform(image).unsqueeze(0).to(device)\n",
        "\n",
        "    with torch.no_grad():\n",
        "        outputs = vitmae_cls_model(image)\n",
        "        probabilities = torch.softmax(outputs, dim=1)\n",
        "        predicted_class = torch.argmax(probabilities).item()\n",
        "\n",
        "    return predicted_class, probabilities.squeeze().cpu().numpy()\n",
        "\n",
        "def infer_multiple_images(image_dir):\n",
        "    results = {}\n",
        "    for file_name in os.listdir(image_dir):\n",
        "        if file_name.endswith(\".png\")\n",
        "            image_path = os.path.join(image_dir, file_name)\n",
        "            predicted_class, probabilities = infer_image(image_path)\n",
        "            results[file_name] = (predicted_class, probabilities)\n",
        "\n",
        "    return results\n",
        "\n",
        "image_dir = \"./mnist_images\"\n",
        "results = infer_multiple_images(image_dir)\n",
        "\n",
        "for file_name, (predicted_class, probabilities) in results.items():\n",
        "    print(f\"Image: {file_name}\")\n",
        "    print(f\"Predicted Class: {predicted_class}\")\n",
        "    print(f\"Probabilities: {probabilities}\")\n"
      ],
      "metadata": {
        "colab": {
          "base_uri": "https://localhost:8080/"
        },
        "id": "5yAAR1fkxcWF",
        "outputId": "f4a41c61-f8b9-4096-97ee-4dfa4364e7e1"
      },
      "execution_count": null,
      "outputs": [
        {
          "output_type": "stream",
          "name": "stderr",
          "text": [
            "<ipython-input-4-5d32e3f70714>:20: FutureWarning: You are using `torch.load` with `weights_only=False` (the current default value), which uses the default pickle module implicitly. It is possible to construct malicious pickle data which will execute arbitrary code during unpickling (See https://github.com/pytorch/pytorch/blob/main/SECURITY.md#untrusted-models for more details). In a future release, the default value for `weights_only` will be flipped to `True`. This limits the functions that could be executed during unpickling. Arbitrary objects will no longer be allowed to be loaded via this mode unless they are explicitly allowlisted by the user via `torch.serialization.add_safe_globals`. We recommend you start setting `weights_only=True` for any use case where you don't have full control of the loaded file. Please open an issue on GitHub for any issues related to this experimental feature.\n",
            "  vitmae_cls_model.load_state_dict(torch.load(\"vit_mae_mnist_classification_model.pth\"))\n"
          ]
        },
        {
          "output_type": "stream",
          "name": "stdout",
          "text": [
            "Image: digit_8_label_1.png\n",
            "Predicted Class: 1\n",
            "Probabilities: [3.4404577e-06 9.9988592e-01 1.9309666e-05 8.2684492e-06 8.2172191e-06\n",
            " 2.3520792e-05 1.5027029e-05 2.2098815e-05 8.1413382e-06 6.0344437e-06]\n",
            "Image: digit_0_label_5.png\n",
            "Predicted Class: 5\n",
            "Probabilities: [1.1994301e-04 7.1267707e-05 3.4978988e-05 7.6753320e-03 1.3602793e-05\n",
            " 9.9161834e-01 2.5402015e-04 9.4690644e-05 6.8872483e-05 4.8971811e-05]\n",
            "Image: digit_4_label_9.png\n",
            "Predicted Class: 9\n",
            "Probabilities: [5.0362636e-05 5.4740434e-05 1.8019262e-05 6.6647095e-05 2.6519754e-04\n",
            " 4.0358482e-05 1.3636540e-05 4.6814519e-05 9.6975622e-04 9.9847454e-01]\n",
            "Image: digit_3_label_1.png\n",
            "Predicted Class: 1\n",
            "Probabilities: [5.0236276e-06 9.9989271e-01 1.6822240e-05 4.2889078e-06 1.0141408e-05\n",
            " 1.6110507e-05 2.3902450e-05 1.7521363e-05 9.1847096e-06 4.2842066e-06]\n",
            "Image: digit_1_label_0.png\n",
            "Predicted Class: 0\n",
            "Probabilities: [9.9961925e-01 9.5052374e-06 1.8977931e-05 7.4208592e-06 1.0301458e-05\n",
            " 9.4409370e-05 1.8945537e-04 7.8049234e-06 2.1229480e-05 2.1743394e-05]\n",
            "Image: digit_5_label_2.png\n",
            "Predicted Class: 2\n",
            "Probabilities: [1.66564969e-05 1.05841518e-05 9.99696016e-01 1.04993574e-04\n",
            " 3.37085703e-06 7.73058127e-06 2.77612144e-05 4.15581890e-05\n",
            " 8.05950112e-05 1.07627493e-05]\n",
            "Image: digit_2_label_4.png\n",
            "Predicted Class: 4\n",
            "Probabilities: [1.6125192e-05 1.0859409e-04 5.9084641e-06 8.4306648e-06 9.9939442e-01\n",
            " 2.6664206e-05 6.7970956e-05 2.9464525e-05 1.5949323e-05 3.2646916e-04]\n",
            "Image: digit_9_label_4.png\n",
            "Predicted Class: 4\n",
            "Probabilities: [2.0081645e-05 8.2109538e-05 4.8244783e-06 5.6927302e-06 9.9952805e-01\n",
            " 2.7543831e-05 1.2237085e-04 1.2649847e-05 1.8164501e-05 1.7852563e-04]\n",
            "Image: digit_7_label_3.png\n",
            "Predicted Class: 3\n",
            "Probabilities: [6.1181477e-06 1.4664822e-05 7.2350951e-05 9.9952734e-01 3.5780074e-06\n",
            " 1.9756847e-04 2.0914136e-05 4.9611783e-05 3.3562956e-05 7.4297539e-05]\n",
            "Image: digit_6_label_1.png\n",
            "Predicted Class: 1\n",
            "Probabilities: [3.2049891e-06 9.9987864e-01 2.3330196e-05 1.1996796e-05 7.3045908e-06\n",
            " 2.3927227e-05 1.3141470e-05 2.3456758e-05 9.3232311e-06 5.7444890e-06]\n"
          ]
        }
      ]
    },
    {
      "cell_type": "code",
      "source": [
        "import torch\n",
        "from torchvision import transforms\n",
        "from PIL import Image\n",
        "import numpy as np\n",
        "import matplotlib.pyplot as plt\n",
        "\n",
        "num_classes = 10\n",
        "vit_config = ViTConfig.from_pretrained(\"google/vit-base-patch16-224-in21k\")\n",
        "vit_model = ViTModel.from_pretrained(\"google/vit-base-patch16-224-in21k\", config=vit_config)\n",
        "mae_model = MaskedAutoencoder(vit_model)\n",
        "vitmae_seg_model = ViTMAESegmentation(mae_model, num_classes=num_classes)\n",
        "vitmae_seg_model.load_state_dict(torch.load(\"vit_mae_mnist_segmentation_model.pth\"))\n",
        "vitmae_seg_model.eval().to(device)\n",
        "\n",
        "transform = transforms.Compose([\n",
        "    transforms.Resize((224, 224)),\n",
        "    transforms.Grayscale(3),\n",
        "    transforms.ToTensor(),\n",
        "    transforms.Normalize(mean=(0.5,), std=(0.5,))\n",
        "])\n",
        "\n",
        "def infer_segmentation(image_path):\n",
        "\n",
        "    image = Image.open(image_path).convert(\"L\")\n",
        "    image_transformed = transform(image).unsqueeze(0).to(device)\n",
        "\n",
        "    with torch.no_grad():\n",
        "        output = vitmae_seg_model(image_transformed)\n",
        "        predicted_mask = torch.argmax(output, dim=1).squeeze(0).cpu().numpy()\n",
        "\n",
        "    return image, predicted_mask\n",
        "\n",
        "image_path = \"./sample_digit.png\"\n",
        "original_image, predicted_mask = infer_segmentation(image_path)\n",
        "\n",
        "plt.figure(figsize=(8, 4))\n",
        "plt.subplot(1, 3, 1)\n",
        "plt.title(\"Original Image\")\n",
        "plt.imshow(original_image, cmap=\"gray\")\n",
        "plt.axis(\"off\")\n",
        "\n",
        "plt.subplot(1, 3, 2)\n",
        "plt.title(\"Predicted Segmentation\")\n",
        "plt.imshow(predicted_mask, cmap=\"jet\")\n",
        "plt.axis(\"off\")\n",
        "\n",
        "plt.subplot(1, 3, 3)\n",
        "plt.title(\"Overlay\")\n",
        "plt.imshow(original_image, cmap=\"gray\")\n",
        "plt.imshow(predicted_mask, cmap=\"jet\", alpha=0.5)\n",
        "plt.axis(\"off\")\n",
        "plt.show()\n",
        "\n"
      ],
      "metadata": {
        "colab": {
          "base_uri": "https://localhost:8080/",
          "height": 296
        },
        "id": "FUNYcwFfpKue",
        "outputId": "27151700-4720-4ed3-bec4-9e78d85e8658"
      },
      "execution_count": null,
      "outputs": [
        {
          "output_type": "stream",
          "name": "stderr",
          "text": [
            "<ipython-input-10-b6faf8627994>:13: FutureWarning: You are using `torch.load` with `weights_only=False` (the current default value), which uses the default pickle module implicitly. It is possible to construct malicious pickle data which will execute arbitrary code during unpickling (See https://github.com/pytorch/pytorch/blob/main/SECURITY.md#untrusted-models for more details). In a future release, the default value for `weights_only` will be flipped to `True`. This limits the functions that could be executed during unpickling. Arbitrary objects will no longer be allowed to be loaded via this mode unless they are explicitly allowlisted by the user via `torch.serialization.add_safe_globals`. We recommend you start setting `weights_only=True` for any use case where you don't have full control of the loaded file. Please open an issue on GitHub for any issues related to this experimental feature.\n",
            "  vitmae_seg_model.load_state_dict(torch.load(\"vit_mae_mnist_segmentation_model.pth\"))\n"
          ]
        },
        {
          "output_type": "display_data",
          "data": {
            "text/plain": [
              "<Figure size 800x400 with 3 Axes>"
            ],
            "image/png": "[encoded data removed]"
          },
          "metadata": {}
        }
      ]
    },
    {
      "cell_type": "code",
      "source": [
        "import os\n",
        "import torch\n",
        "from torchvision import transforms\n",
        "from PIL import Image\n",
        "import numpy as np\n",
        "import matplotlib.pyplot as plt\n",
        "from transformers import ViTConfig, ViTModel\n",
        "\n",
        "num_classes = 10\n",
        "vit_config = ViTConfig.from_pretrained(\"google/vit-base-patch16-224-in21k\")\n",
        "vit_model = ViTModel.from_pretrained(\"google/vit-base-patch16-224-in21k\", config=vit_config)\n",
        "mae_model = MaskedAutoencoder(vit_model)\n",
        "vitmae_seg_model = ViTMAESegmentation(mae_model, num_classes=num_classes)\n",
        "vitmae_seg_model.load_state_dict(torch.load(\"vit_mae_mnist_segmentation_model.pth\"))\n",
        "vitmae_seg_model.eval().to(device)\n",
        "\n",
        "transform = transforms.Compose([\n",
        "    transforms.Resize((224, 224)),\n",
        "    transforms.Grayscale(3),\n",
        "    transforms.ToTensor(),\n",
        "    transforms.Normalize(mean=(0.5,), std=(0.5,))\n",
        "])\n",
        "\n",
        "def infer_segmentation(image_path):\n",
        "    image = Image.open(image_path).convert(\"L\")\n",
        "    image_transformed = transform(image).unsqueeze(0).to(device)\n",
        "\n",
        "    with torch.no_grad():\n",
        "        output = vitmae_seg_model(image_transformed)\n",
        "        predicted_mask = torch.argmax(output, dim=1).squeeze(0).cpu().numpy()\n",
        "\n",
        "    return image, predicted_mask\n",
        "\n",
        "def batch_infer_segmentation(image_dir, output_dir=\"./output_results\"):\n",
        "    os.makedirs(output_dir, exist_ok=True)\n",
        "    image_paths = [os.path.join(image_dir, img) for img in os.listdir(image_dir) if img.endswith(\".png\")]\n",
        "\n",
        "    for image_path in image_paths:\n",
        "        original_image, predicted_mask = infer_segmentation(image_path)\n",
        "        image_name = os.path.basename(image_path).split('.')[0]\n",
        "\n",
        "        plt.figure(figsize=(12, 4))\n",
        "        plt.subplot(1, 3, 1)\n",
        "        plt.title(\"Original Image\")\n",
        "        plt.imshow(original_image, cmap=\"gray\")\n",
        "        plt.axis(\"off\")\n",
        "\n",
        "        plt.subplot(1, 3, 2)\n",
        "        plt.title(\"Predicted Segmentation\")\n",
        "        plt.imshow(predicted_mask, cmap=\"jet\")\n",
        "        plt.axis(\"off\")\n",
        "\n",
        "        plt.subplot(1, 3, 3)\n",
        "        plt.title(\"Overlay\")\n",
        "        plt.imshow(original_image, cmap=\"gray\")\n",
        "        plt.imshow(predicted_mask, cmap=\"jet\", alpha=0.5)\n",
        "        plt.axis(\"off\")\n",
        "\n",
        "        plt.savefig(os.path.join(output_dir, f\"{image_name}_segmentation.png\"))\n",
        "        print(f\"Saved segmentation result for {image_name}\")\n",
        "        plt.close()\n",
        "\n",
        "image_dir = \"./mnist_images\"\n",
        "batch_infer_segmentation(image_dir)\n"
      ],
      "metadata": {
        "colab": {
          "base_uri": "https://localhost:8080/"
        },
        "id": "WYGOhAZNgY0C",
        "outputId": "48735b58-658e-45b2-d192-31f491fdbf99"
      },
      "execution_count": null,
      "outputs": [
        {
          "output_type": "stream",
          "name": "stderr",
          "text": [
            "<ipython-input-15-37cd74dcd8a8>:15: FutureWarning: You are using `torch.load` with `weights_only=False` (the current default value), which uses the default pickle module implicitly. It is possible to construct malicious pickle data which will execute arbitrary code during unpickling (See https://github.com/pytorch/pytorch/blob/main/SECURITY.md#untrusted-models for more details). In a future release, the default value for `weights_only` will be flipped to `True`. This limits the functions that could be executed during unpickling. Arbitrary objects will no longer be allowed to be loaded via this mode unless they are explicitly allowlisted by the user via `torch.serialization.add_safe_globals`. We recommend you start setting `weights_only=True` for any use case where you don't have full control of the loaded file. Please open an issue on GitHub for any issues related to this experimental feature.\n",
            "  vitmae_seg_model.load_state_dict(torch.load(\"vit_mae_mnist_segmentation_model.pth\"))\n"
          ]
        },
        {
          "output_type": "stream",
          "name": "stdout",
          "text": [
            "Saved segmentation result for digit_8_label_1\n",
            "Saved segmentation result for digit_0_label_5\n",
            "Saved segmentation result for digit_4_label_9\n",
            "Saved segmentation result for digit_3_label_1\n",
            "Saved segmentation result for digit_1_label_0\n",
            "Saved segmentation result for digit_5_label_2\n",
            "Saved segmentation result for digit_2_label_4\n",
            "Saved segmentation result for digit_9_label_4\n",
            "Saved segmentation result for digit_7_label_3\n",
            "Saved segmentation result for digit_6_label_1\n"
          ]
        }
      ]
    },
    {
      "cell_type": "code",
      "source": [
        "import os\n",
        "import matplotlib.pyplot as plt\n",
        "from PIL import Image\n",
        "\n",
        "output_dir = \"./output_results\"\n",
        "\n",
        "def visualize_saved_results(output_dir, num_images=5):\n",
        "    saved_images = [img for img in os.listdir(output_dir) if img.endswith(\".png\")]\n",
        "\n",
        "    if len(saved_images) == 0:\n",
        "        print(f\"No images found in {output_dir}. Ensure the inference script ran successfully.\")\n",
        "        return\n",
        "\n",
        "    num_images = min(num_images, len(saved_images))\n",
        "\n",
        "    for idx, image_name in enumerate(saved_images[:num_images]):\n",
        "        image_path = os.path.join(output_dir, image_name)\n",
        "        image = Image.open(image_path)\n",
        "\n",
        "        plt.figure(figsize=(6, 6))\n",
        "        plt.title(f\"Result {idx+1}: {image_name}\")\n",
        "        plt.imshow(image)\n",
        "        plt.axis(\"off\")\n",
        "        plt.show()\n",
        "\n",
        "visualize_saved_results(output_dir, num_images=10)\n"
      ],
      "metadata": {
        "id": "dxaf_Bq4iD8m",
        "outputId": "9e59f7c3-702d-4e66-fae0-7698fb41801d",
        "colab": {
          "base_uri": "https://localhost:8080/",
          "height": 1000
        }
      },
      "execution_count": null,
      "outputs": [
        {
          "output_type": "display_data",
          "data": {
            "text/plain": [
              "<Figure size 600x600 with 1 Axes>"
            ],
            "image/png": "[encoded data removed]"
          },
          "metadata": {}
        },
        {
          "output_type": "display_data",
          "data": {
            "text/plain": [
              "<Figure size 600x600 with 1 Axes>"
            ],
            "image/png": "[encoded data removed]"
          },
          "metadata": {}
        },
        {
          "output_type": "display_data",
          "data": {
            "text/plain": [
              "<Figure size 600x600 with 1 Axes>"
            ],
            "image/png": "[encoded data removed]"
          },
          "metadata": {}
        },
        {
          "output_type": "display_data",
          "data": {
            "text/plain": [
              "<Figure size 600x600 with 1 Axes>"
            ],
            "image/png": "[encoded data removed]"
          },
          "metadata": {}
        },
        {
          "output_type": "display_data",
          "data": {
            "text/plain": [
              "<Figure size 600x600 with 1 Axes>"
            ],
            "image/png": "[encoded data removed]"
          },
          "metadata": {}
        },
        {
          "output_type": "display_data",
          "data": {
            "text/plain": [
              "<Figure size 600x600 with 1 Axes>"
            ],
            "image/png": "[encoded data removed]"
          },
          "metadata": {}
        },
        {
          "output_type": "display_data",
          "data": {
            "text/plain": [
              "<Figure size 600x600 with 1 Axes>"
            ],
            "image/png": "[encoded data removed]"
          },
          "metadata": {}
        },
        {
          "output_type": "display_data",
          "data": {
            "text/plain": [
              "<Figure size 600x600 with 1 Axes>"
            ],
            "image/png": "[encoded data removed]"
          },
          "metadata": {}
        },
        {
          "output_type": "display_data",
          "data": {
            "text/plain": [
              "<Figure size 600x600 with 1 Axes>"
            ],
            "image/png": "[encoded data removed]"
          },
          "metadata": {}
        },
        {
          "output_type": "display_data",
          "data": {
            "text/plain": [
              "<Figure size 600x600 with 1 Axes>"
            ],
            "image/png": "[encoded data removed]"
          },
          "metadata": {}
        }
      ]
    }
  ]
}